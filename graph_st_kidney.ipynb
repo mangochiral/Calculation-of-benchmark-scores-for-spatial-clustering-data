{
 "cells": [
  {
   "cell_type": "code",
   "execution_count": 1,
   "id": "2d816501-527e-4ea8-8114-6de084c4975a",
   "metadata": {},
   "outputs": [
    {
     "name": "stderr",
     "output_type": "stream",
     "text": [
      "C:\\Users\\chand\\anaconda3\\envs\\GraphST\\lib\\site-packages\\tqdm\\auto.py:22: TqdmWarning: IProgress not found. Please update jupyter and ipywidgets. See https://ipywidgets.readthedocs.io/en/stable/user_install.html\n",
      "  from .autonotebook import tqdm as notebook_tqdm\n"
     ]
    }
   ],
   "source": [
    "import os\n",
    "import torch\n",
    "import pandas as pd\n",
    "import scanpy as sc\n",
    "from sklearn import metrics\n",
    "import multiprocessing as mp\n",
    "from GraphST import GraphST\n",
    "# Run device, by default, the package is implemented on 'cpu'. We recommend using GPU.\n",
    "device = torch.device('cuda:1' if torch.cuda.is_available() else 'cpu')\n",
    "\n",
    "# the location of R, which is necessary for mclust algorithm. Please replace the path below with local R installation path\n",
    "os.environ['R_HOME'] = 'C:/PROGRA~1/R/R-43~1.2'\n",
    "\n"
   ]
  },
  {
   "cell_type": "code",
   "execution_count": 36,
   "id": "7220b473-9a3b-444d-825f-c9c80f1e4365",
   "metadata": {},
   "outputs": [],
   "source": [
    "os.chdir('C:\\\\kidney_data\\\\newkidneydata\\\\')\n",
    "# print(os.listdir())\n",
    "file_path = os.listdir()"
   ]
  },
  {
   "cell_type": "code",
   "execution_count": 47,
   "id": "596dd62c-2352-41d2-8ff4-7eaf65b18337",
   "metadata": {},
   "outputs": [
    {
     "name": "stderr",
     "output_type": "stream",
     "text": [
      "C:\\Users\\chand\\anaconda3\\envs\\GraphST\\lib\\site-packages\\anndata\\_core\\anndata.py:788: UserWarning: \n",
      "AnnData expects .obs.index to contain strings, but got values like:\n",
      "    [1, 2, 3, 4, 5]\n",
      "\n",
      "    Inferred to be: integer\n",
      "\n",
      "  value_idx = self._prep_dim_index(value.index, attr)\n",
      "C:\\Users\\chand\\anaconda3\\envs\\GraphST\\lib\\site-packages\\anndata\\_core\\anndata.py:121: ImplicitModificationWarning: Transforming to str index.\n",
      "  warnings.warn(\"Transforming to str index.\", ImplicitModificationWarning)\n",
      "C:\\Users\\chand\\anaconda3\\envs\\GraphST\\lib\\site-packages\\scanpy\\preprocessing\\_highly_variable_genes.py:62: UserWarning: `flavor='seurat_v3'` expects raw count data, but non-integers were found.\n",
      "  warnings.warn(\n"
     ]
    },
    {
     "name": "stdout",
     "output_type": "stream",
     "text": [
      "Begin to train ST data...\n"
     ]
    },
    {
     "name": "stderr",
     "output_type": "stream",
     "text": [
      "100%|████████████████████████████████████████████████████████████████████████████████| 600/600 [01:57<00:00,  5.09it/s]\n"
     ]
    },
    {
     "name": "stdout",
     "output_type": "stream",
     "text": [
      "Optimization finished for ST data!\n",
      "fitting ...\n",
      "  |======================================================================| 100%\n"
     ]
    },
    {
     "name": "stderr",
     "output_type": "stream",
     "text": [
      "C:\\Users\\chand\\anaconda3\\envs\\GraphST\\lib\\site-packages\\anndata\\_core\\anndata.py:788: UserWarning: \n",
      "AnnData expects .obs.index to contain strings, but got values like:\n",
      "    [1, 2, 3, 4, 5]\n",
      "\n",
      "    Inferred to be: integer\n",
      "\n",
      "  value_idx = self._prep_dim_index(value.index, attr)\n",
      "C:\\Users\\chand\\anaconda3\\envs\\GraphST\\lib\\site-packages\\anndata\\_core\\anndata.py:121: ImplicitModificationWarning: Transforming to str index.\n",
      "  warnings.warn(\"Transforming to str index.\", ImplicitModificationWarning)\n",
      "C:\\Users\\chand\\anaconda3\\envs\\GraphST\\lib\\site-packages\\scanpy\\preprocessing\\_highly_variable_genes.py:62: UserWarning: `flavor='seurat_v3'` expects raw count data, but non-integers were found.\n",
      "  warnings.warn(\n"
     ]
    },
    {
     "name": "stdout",
     "output_type": "stream",
     "text": [
      "Begin to train ST data...\n"
     ]
    },
    {
     "name": "stderr",
     "output_type": "stream",
     "text": [
      "100%|████████████████████████████████████████████████████████████████████████████████| 600/600 [02:42<00:00,  3.70it/s]\n"
     ]
    },
    {
     "name": "stdout",
     "output_type": "stream",
     "text": [
      "Optimization finished for ST data!\n",
      "fitting ...\n",
      "  |======================================================================| 100%\n"
     ]
    },
    {
     "name": "stderr",
     "output_type": "stream",
     "text": [
      "C:\\Users\\chand\\anaconda3\\envs\\GraphST\\lib\\site-packages\\anndata\\_core\\anndata.py:788: UserWarning: \n",
      "AnnData expects .obs.index to contain strings, but got values like:\n",
      "    [1, 2, 3, 4, 5]\n",
      "\n",
      "    Inferred to be: integer\n",
      "\n",
      "  value_idx = self._prep_dim_index(value.index, attr)\n",
      "C:\\Users\\chand\\anaconda3\\envs\\GraphST\\lib\\site-packages\\anndata\\_core\\anndata.py:121: ImplicitModificationWarning: Transforming to str index.\n",
      "  warnings.warn(\"Transforming to str index.\", ImplicitModificationWarning)\n",
      "C:\\Users\\chand\\anaconda3\\envs\\GraphST\\lib\\site-packages\\scanpy\\preprocessing\\_highly_variable_genes.py:62: UserWarning: `flavor='seurat_v3'` expects raw count data, but non-integers were found.\n",
      "  warnings.warn(\n"
     ]
    },
    {
     "name": "stdout",
     "output_type": "stream",
     "text": [
      "Begin to train ST data...\n"
     ]
    },
    {
     "name": "stderr",
     "output_type": "stream",
     "text": [
      "100%|████████████████████████████████████████████████████████████████████████████████| 600/600 [02:53<00:00,  3.45it/s]\n"
     ]
    },
    {
     "name": "stdout",
     "output_type": "stream",
     "text": [
      "Optimization finished for ST data!\n",
      "fitting ...\n",
      "  |======================================================================| 100%\n"
     ]
    },
    {
     "name": "stderr",
     "output_type": "stream",
     "text": [
      "C:\\Users\\chand\\anaconda3\\envs\\GraphST\\lib\\site-packages\\anndata\\_core\\anndata.py:788: UserWarning: \n",
      "AnnData expects .obs.index to contain strings, but got values like:\n",
      "    [1, 2, 3, 4, 5]\n",
      "\n",
      "    Inferred to be: integer\n",
      "\n",
      "  value_idx = self._prep_dim_index(value.index, attr)\n",
      "C:\\Users\\chand\\anaconda3\\envs\\GraphST\\lib\\site-packages\\anndata\\_core\\anndata.py:121: ImplicitModificationWarning: Transforming to str index.\n",
      "  warnings.warn(\"Transforming to str index.\", ImplicitModificationWarning)\n",
      "C:\\Users\\chand\\anaconda3\\envs\\GraphST\\lib\\site-packages\\scanpy\\preprocessing\\_highly_variable_genes.py:62: UserWarning: `flavor='seurat_v3'` expects raw count data, but non-integers were found.\n",
      "  warnings.warn(\n"
     ]
    },
    {
     "name": "stdout",
     "output_type": "stream",
     "text": [
      "Begin to train ST data...\n"
     ]
    },
    {
     "name": "stderr",
     "output_type": "stream",
     "text": [
      "100%|████████████████████████████████████████████████████████████████████████████████| 600/600 [02:17<00:00,  4.38it/s]\n"
     ]
    },
    {
     "name": "stdout",
     "output_type": "stream",
     "text": [
      "Optimization finished for ST data!\n",
      "fitting ...\n",
      "  |======================================================================| 100%\n"
     ]
    },
    {
     "name": "stderr",
     "output_type": "stream",
     "text": [
      "C:\\Users\\chand\\anaconda3\\envs\\GraphST\\lib\\site-packages\\anndata\\_core\\anndata.py:788: UserWarning: \n",
      "AnnData expects .obs.index to contain strings, but got values like:\n",
      "    [1, 2, 3, 4, 5]\n",
      "\n",
      "    Inferred to be: integer\n",
      "\n",
      "  value_idx = self._prep_dim_index(value.index, attr)\n",
      "C:\\Users\\chand\\anaconda3\\envs\\GraphST\\lib\\site-packages\\anndata\\_core\\anndata.py:121: ImplicitModificationWarning: Transforming to str index.\n",
      "  warnings.warn(\"Transforming to str index.\", ImplicitModificationWarning)\n",
      "C:\\Users\\chand\\anaconda3\\envs\\GraphST\\lib\\site-packages\\scanpy\\preprocessing\\_highly_variable_genes.py:62: UserWarning: `flavor='seurat_v3'` expects raw count data, but non-integers were found.\n",
      "  warnings.warn(\n"
     ]
    },
    {
     "name": "stdout",
     "output_type": "stream",
     "text": [
      "Begin to train ST data...\n"
     ]
    },
    {
     "name": "stderr",
     "output_type": "stream",
     "text": [
      "100%|████████████████████████████████████████████████████████████████████████████████| 600/600 [04:53<00:00,  2.04it/s]\n"
     ]
    },
    {
     "name": "stdout",
     "output_type": "stream",
     "text": [
      "Optimization finished for ST data!\n",
      "fitting ...\n",
      "  |======================================================================| 100%\n"
     ]
    },
    {
     "name": "stderr",
     "output_type": "stream",
     "text": [
      "C:\\Users\\chand\\anaconda3\\envs\\GraphST\\lib\\site-packages\\anndata\\_core\\anndata.py:788: UserWarning: \n",
      "AnnData expects .obs.index to contain strings, but got values like:\n",
      "    [1, 2, 3, 4, 5]\n",
      "\n",
      "    Inferred to be: integer\n",
      "\n",
      "  value_idx = self._prep_dim_index(value.index, attr)\n",
      "C:\\Users\\chand\\anaconda3\\envs\\GraphST\\lib\\site-packages\\anndata\\_core\\anndata.py:121: ImplicitModificationWarning: Transforming to str index.\n",
      "  warnings.warn(\"Transforming to str index.\", ImplicitModificationWarning)\n",
      "C:\\Users\\chand\\anaconda3\\envs\\GraphST\\lib\\site-packages\\scanpy\\preprocessing\\_highly_variable_genes.py:62: UserWarning: `flavor='seurat_v3'` expects raw count data, but non-integers were found.\n",
      "  warnings.warn(\n"
     ]
    },
    {
     "name": "stdout",
     "output_type": "stream",
     "text": [
      "Begin to train ST data...\n"
     ]
    },
    {
     "name": "stderr",
     "output_type": "stream",
     "text": [
      "100%|████████████████████████████████████████████████████████████████████████████████| 600/600 [02:07<00:00,  4.71it/s]\n"
     ]
    },
    {
     "name": "stdout",
     "output_type": "stream",
     "text": [
      "Optimization finished for ST data!\n",
      "fitting ...\n",
      "  |======================================================================| 100%\n"
     ]
    },
    {
     "name": "stderr",
     "output_type": "stream",
     "text": [
      "C:\\Users\\chand\\anaconda3\\envs\\GraphST\\lib\\site-packages\\anndata\\_core\\anndata.py:788: UserWarning: \n",
      "AnnData expects .obs.index to contain strings, but got values like:\n",
      "    [1, 2, 3, 4, 5]\n",
      "\n",
      "    Inferred to be: integer\n",
      "\n",
      "  value_idx = self._prep_dim_index(value.index, attr)\n",
      "C:\\Users\\chand\\anaconda3\\envs\\GraphST\\lib\\site-packages\\anndata\\_core\\anndata.py:121: ImplicitModificationWarning: Transforming to str index.\n",
      "  warnings.warn(\"Transforming to str index.\", ImplicitModificationWarning)\n",
      "C:\\Users\\chand\\anaconda3\\envs\\GraphST\\lib\\site-packages\\scanpy\\preprocessing\\_highly_variable_genes.py:62: UserWarning: `flavor='seurat_v3'` expects raw count data, but non-integers were found.\n",
      "  warnings.warn(\n"
     ]
    },
    {
     "name": "stdout",
     "output_type": "stream",
     "text": [
      "Begin to train ST data...\n"
     ]
    },
    {
     "name": "stderr",
     "output_type": "stream",
     "text": [
      "100%|████████████████████████████████████████████████████████████████████████████████| 600/600 [05:28<00:00,  1.83it/s]\n"
     ]
    },
    {
     "name": "stdout",
     "output_type": "stream",
     "text": [
      "Optimization finished for ST data!\n",
      "fitting ...\n",
      "  |======================================================================| 100%\n"
     ]
    },
    {
     "name": "stderr",
     "output_type": "stream",
     "text": [
      "C:\\Users\\chand\\anaconda3\\envs\\GraphST\\lib\\site-packages\\anndata\\_core\\anndata.py:788: UserWarning: \n",
      "AnnData expects .obs.index to contain strings, but got values like:\n",
      "    [1, 2, 3, 4, 5]\n",
      "\n",
      "    Inferred to be: integer\n",
      "\n",
      "  value_idx = self._prep_dim_index(value.index, attr)\n",
      "C:\\Users\\chand\\anaconda3\\envs\\GraphST\\lib\\site-packages\\anndata\\_core\\anndata.py:121: ImplicitModificationWarning: Transforming to str index.\n",
      "  warnings.warn(\"Transforming to str index.\", ImplicitModificationWarning)\n",
      "C:\\Users\\chand\\anaconda3\\envs\\GraphST\\lib\\site-packages\\scanpy\\preprocessing\\_highly_variable_genes.py:62: UserWarning: `flavor='seurat_v3'` expects raw count data, but non-integers were found.\n",
      "  warnings.warn(\n"
     ]
    },
    {
     "name": "stdout",
     "output_type": "stream",
     "text": [
      "Begin to train ST data...\n"
     ]
    },
    {
     "name": "stderr",
     "output_type": "stream",
     "text": [
      "100%|████████████████████████████████████████████████████████████████████████████████| 600/600 [02:39<00:00,  3.77it/s]\n"
     ]
    },
    {
     "name": "stdout",
     "output_type": "stream",
     "text": [
      "Optimization finished for ST data!\n",
      "fitting ...\n",
      "  |======================================================================| 100%\n"
     ]
    },
    {
     "name": "stderr",
     "output_type": "stream",
     "text": [
      "C:\\Users\\chand\\anaconda3\\envs\\GraphST\\lib\\site-packages\\anndata\\_core\\anndata.py:788: UserWarning: \n",
      "AnnData expects .obs.index to contain strings, but got values like:\n",
      "    [1, 2, 3, 4, 5]\n",
      "\n",
      "    Inferred to be: integer\n",
      "\n",
      "  value_idx = self._prep_dim_index(value.index, attr)\n",
      "C:\\Users\\chand\\anaconda3\\envs\\GraphST\\lib\\site-packages\\anndata\\_core\\anndata.py:121: ImplicitModificationWarning: Transforming to str index.\n",
      "  warnings.warn(\"Transforming to str index.\", ImplicitModificationWarning)\n",
      "C:\\Users\\chand\\anaconda3\\envs\\GraphST\\lib\\site-packages\\scanpy\\preprocessing\\_highly_variable_genes.py:62: UserWarning: `flavor='seurat_v3'` expects raw count data, but non-integers were found.\n",
      "  warnings.warn(\n"
     ]
    },
    {
     "name": "stdout",
     "output_type": "stream",
     "text": [
      "Begin to train ST data...\n"
     ]
    },
    {
     "name": "stderr",
     "output_type": "stream",
     "text": [
      "100%|████████████████████████████████████████████████████████████████████████████████| 600/600 [01:35<00:00,  6.29it/s]\n"
     ]
    },
    {
     "name": "stdout",
     "output_type": "stream",
     "text": [
      "Optimization finished for ST data!\n",
      "fitting ...\n",
      "  |======================================================================| 100%\n"
     ]
    },
    {
     "name": "stderr",
     "output_type": "stream",
     "text": [
      "C:\\Users\\chand\\anaconda3\\envs\\GraphST\\lib\\site-packages\\anndata\\_core\\anndata.py:788: UserWarning: \n",
      "AnnData expects .obs.index to contain strings, but got values like:\n",
      "    [1, 2, 3, 4, 5]\n",
      "\n",
      "    Inferred to be: integer\n",
      "\n",
      "  value_idx = self._prep_dim_index(value.index, attr)\n",
      "C:\\Users\\chand\\anaconda3\\envs\\GraphST\\lib\\site-packages\\anndata\\_core\\anndata.py:121: ImplicitModificationWarning: Transforming to str index.\n",
      "  warnings.warn(\"Transforming to str index.\", ImplicitModificationWarning)\n",
      "C:\\Users\\chand\\anaconda3\\envs\\GraphST\\lib\\site-packages\\scanpy\\preprocessing\\_highly_variable_genes.py:62: UserWarning: `flavor='seurat_v3'` expects raw count data, but non-integers were found.\n",
      "  warnings.warn(\n"
     ]
    },
    {
     "name": "stdout",
     "output_type": "stream",
     "text": [
      "Begin to train ST data...\n"
     ]
    },
    {
     "name": "stderr",
     "output_type": "stream",
     "text": [
      "100%|████████████████████████████████████████████████████████████████████████████████| 600/600 [01:44<00:00,  5.77it/s]\n"
     ]
    },
    {
     "name": "stdout",
     "output_type": "stream",
     "text": [
      "Optimization finished for ST data!\n",
      "fitting ...\n",
      "  |======================================================================| 100%\n"
     ]
    },
    {
     "name": "stderr",
     "output_type": "stream",
     "text": [
      "C:\\Users\\chand\\anaconda3\\envs\\GraphST\\lib\\site-packages\\anndata\\_core\\anndata.py:788: UserWarning: \n",
      "AnnData expects .obs.index to contain strings, but got values like:\n",
      "    [1, 2, 3, 4, 5]\n",
      "\n",
      "    Inferred to be: integer\n",
      "\n",
      "  value_idx = self._prep_dim_index(value.index, attr)\n",
      "C:\\Users\\chand\\anaconda3\\envs\\GraphST\\lib\\site-packages\\anndata\\_core\\anndata.py:121: ImplicitModificationWarning: Transforming to str index.\n",
      "  warnings.warn(\"Transforming to str index.\", ImplicitModificationWarning)\n",
      "C:\\Users\\chand\\anaconda3\\envs\\GraphST\\lib\\site-packages\\scanpy\\preprocessing\\_highly_variable_genes.py:62: UserWarning: `flavor='seurat_v3'` expects raw count data, but non-integers were found.\n",
      "  warnings.warn(\n"
     ]
    },
    {
     "name": "stdout",
     "output_type": "stream",
     "text": [
      "Begin to train ST data...\n"
     ]
    },
    {
     "name": "stderr",
     "output_type": "stream",
     "text": [
      "100%|████████████████████████████████████████████████████████████████████████████████| 600/600 [02:13<00:00,  4.48it/s]\n"
     ]
    },
    {
     "name": "stdout",
     "output_type": "stream",
     "text": [
      "Optimization finished for ST data!\n",
      "fitting ...\n",
      "  |======================================================================| 100%\n"
     ]
    },
    {
     "name": "stderr",
     "output_type": "stream",
     "text": [
      "C:\\Users\\chand\\anaconda3\\envs\\GraphST\\lib\\site-packages\\anndata\\_core\\anndata.py:788: UserWarning: \n",
      "AnnData expects .obs.index to contain strings, but got values like:\n",
      "    [1, 2, 3, 4, 5]\n",
      "\n",
      "    Inferred to be: integer\n",
      "\n",
      "  value_idx = self._prep_dim_index(value.index, attr)\n",
      "C:\\Users\\chand\\anaconda3\\envs\\GraphST\\lib\\site-packages\\anndata\\_core\\anndata.py:121: ImplicitModificationWarning: Transforming to str index.\n",
      "  warnings.warn(\"Transforming to str index.\", ImplicitModificationWarning)\n",
      "C:\\Users\\chand\\anaconda3\\envs\\GraphST\\lib\\site-packages\\scanpy\\preprocessing\\_highly_variable_genes.py:62: UserWarning: `flavor='seurat_v3'` expects raw count data, but non-integers were found.\n",
      "  warnings.warn(\n"
     ]
    },
    {
     "name": "stdout",
     "output_type": "stream",
     "text": [
      "Begin to train ST data...\n"
     ]
    },
    {
     "name": "stderr",
     "output_type": "stream",
     "text": [
      "100%|████████████████████████████████████████████████████████████████████████████████| 600/600 [01:54<00:00,  5.22it/s]\n"
     ]
    },
    {
     "name": "stdout",
     "output_type": "stream",
     "text": [
      "Optimization finished for ST data!\n",
      "fitting ...\n",
      "  |======================================================================| 100%\n"
     ]
    },
    {
     "name": "stderr",
     "output_type": "stream",
     "text": [
      "C:\\Users\\chand\\anaconda3\\envs\\GraphST\\lib\\site-packages\\anndata\\_core\\anndata.py:788: UserWarning: \n",
      "AnnData expects .obs.index to contain strings, but got values like:\n",
      "    [1, 2, 3, 4, 5]\n",
      "\n",
      "    Inferred to be: integer\n",
      "\n",
      "  value_idx = self._prep_dim_index(value.index, attr)\n",
      "C:\\Users\\chand\\anaconda3\\envs\\GraphST\\lib\\site-packages\\anndata\\_core\\anndata.py:121: ImplicitModificationWarning: Transforming to str index.\n",
      "  warnings.warn(\"Transforming to str index.\", ImplicitModificationWarning)\n",
      "C:\\Users\\chand\\anaconda3\\envs\\GraphST\\lib\\site-packages\\scanpy\\preprocessing\\_highly_variable_genes.py:62: UserWarning: `flavor='seurat_v3'` expects raw count data, but non-integers were found.\n",
      "  warnings.warn(\n"
     ]
    },
    {
     "name": "stdout",
     "output_type": "stream",
     "text": [
      "Begin to train ST data...\n"
     ]
    },
    {
     "name": "stderr",
     "output_type": "stream",
     "text": [
      "100%|████████████████████████████████████████████████████████████████████████████████| 600/600 [04:28<00:00,  2.23it/s]\n"
     ]
    },
    {
     "name": "stdout",
     "output_type": "stream",
     "text": [
      "Optimization finished for ST data!\n",
      "fitting ...\n",
      "  |======================================================================| 100%\n"
     ]
    },
    {
     "name": "stderr",
     "output_type": "stream",
     "text": [
      "C:\\Users\\chand\\anaconda3\\envs\\GraphST\\lib\\site-packages\\anndata\\_core\\anndata.py:788: UserWarning: \n",
      "AnnData expects .obs.index to contain strings, but got values like:\n",
      "    [1, 2, 3, 4, 5]\n",
      "\n",
      "    Inferred to be: integer\n",
      "\n",
      "  value_idx = self._prep_dim_index(value.index, attr)\n",
      "C:\\Users\\chand\\anaconda3\\envs\\GraphST\\lib\\site-packages\\anndata\\_core\\anndata.py:121: ImplicitModificationWarning: Transforming to str index.\n",
      "  warnings.warn(\"Transforming to str index.\", ImplicitModificationWarning)\n",
      "C:\\Users\\chand\\anaconda3\\envs\\GraphST\\lib\\site-packages\\scanpy\\preprocessing\\_highly_variable_genes.py:62: UserWarning: `flavor='seurat_v3'` expects raw count data, but non-integers were found.\n",
      "  warnings.warn(\n"
     ]
    },
    {
     "name": "stdout",
     "output_type": "stream",
     "text": [
      "Begin to train ST data...\n"
     ]
    },
    {
     "name": "stderr",
     "output_type": "stream",
     "text": [
      "100%|████████████████████████████████████████████████████████████████████████████████| 600/600 [13:22<00:00,  1.34s/it]\n"
     ]
    },
    {
     "name": "stdout",
     "output_type": "stream",
     "text": [
      "Optimization finished for ST data!\n",
      "fitting ...\n",
      "  |======================================================================| 100%\n"
     ]
    },
    {
     "name": "stderr",
     "output_type": "stream",
     "text": [
      "C:\\Users\\chand\\anaconda3\\envs\\GraphST\\lib\\site-packages\\anndata\\_core\\anndata.py:788: UserWarning: \n",
      "AnnData expects .obs.index to contain strings, but got values like:\n",
      "    [1, 2, 3, 4, 5]\n",
      "\n",
      "    Inferred to be: integer\n",
      "\n",
      "  value_idx = self._prep_dim_index(value.index, attr)\n",
      "C:\\Users\\chand\\anaconda3\\envs\\GraphST\\lib\\site-packages\\anndata\\_core\\anndata.py:121: ImplicitModificationWarning: Transforming to str index.\n",
      "  warnings.warn(\"Transforming to str index.\", ImplicitModificationWarning)\n",
      "C:\\Users\\chand\\anaconda3\\envs\\GraphST\\lib\\site-packages\\scanpy\\preprocessing\\_highly_variable_genes.py:62: UserWarning: `flavor='seurat_v3'` expects raw count data, but non-integers were found.\n",
      "  warnings.warn(\n"
     ]
    },
    {
     "name": "stdout",
     "output_type": "stream",
     "text": [
      "Begin to train ST data...\n"
     ]
    },
    {
     "name": "stderr",
     "output_type": "stream",
     "text": [
      "100%|████████████████████████████████████████████████████████████████████████████████| 600/600 [17:00<00:00,  1.70s/it]\n"
     ]
    },
    {
     "name": "stdout",
     "output_type": "stream",
     "text": [
      "Optimization finished for ST data!\n",
      "fitting ...\n",
      "  |======================================================================| 100%\n"
     ]
    },
    {
     "name": "stderr",
     "output_type": "stream",
     "text": [
      "C:\\Users\\chand\\anaconda3\\envs\\GraphST\\lib\\site-packages\\anndata\\_core\\anndata.py:788: UserWarning: \n",
      "AnnData expects .obs.index to contain strings, but got values like:\n",
      "    [1, 2, 3, 4, 5]\n",
      "\n",
      "    Inferred to be: integer\n",
      "\n",
      "  value_idx = self._prep_dim_index(value.index, attr)\n",
      "C:\\Users\\chand\\anaconda3\\envs\\GraphST\\lib\\site-packages\\anndata\\_core\\anndata.py:121: ImplicitModificationWarning: Transforming to str index.\n",
      "  warnings.warn(\"Transforming to str index.\", ImplicitModificationWarning)\n",
      "C:\\Users\\chand\\anaconda3\\envs\\GraphST\\lib\\site-packages\\scanpy\\preprocessing\\_highly_variable_genes.py:62: UserWarning: `flavor='seurat_v3'` expects raw count data, but non-integers were found.\n",
      "  warnings.warn(\n"
     ]
    },
    {
     "name": "stdout",
     "output_type": "stream",
     "text": [
      "Begin to train ST data...\n"
     ]
    },
    {
     "name": "stderr",
     "output_type": "stream",
     "text": [
      "100%|████████████████████████████████████████████████████████████████████████████████| 600/600 [06:01<00:00,  1.66it/s]\n"
     ]
    },
    {
     "name": "stdout",
     "output_type": "stream",
     "text": [
      "Optimization finished for ST data!\n",
      "fitting ...\n",
      "  |======================================================================| 100%\n"
     ]
    },
    {
     "name": "stderr",
     "output_type": "stream",
     "text": [
      "C:\\Users\\chand\\anaconda3\\envs\\GraphST\\lib\\site-packages\\anndata\\_core\\anndata.py:788: UserWarning: \n",
      "AnnData expects .obs.index to contain strings, but got values like:\n",
      "    [1, 2, 3, 4, 5]\n",
      "\n",
      "    Inferred to be: integer\n",
      "\n",
      "  value_idx = self._prep_dim_index(value.index, attr)\n",
      "C:\\Users\\chand\\anaconda3\\envs\\GraphST\\lib\\site-packages\\anndata\\_core\\anndata.py:121: ImplicitModificationWarning: Transforming to str index.\n",
      "  warnings.warn(\"Transforming to str index.\", ImplicitModificationWarning)\n",
      "C:\\Users\\chand\\anaconda3\\envs\\GraphST\\lib\\site-packages\\scanpy\\preprocessing\\_highly_variable_genes.py:62: UserWarning: `flavor='seurat_v3'` expects raw count data, but non-integers were found.\n",
      "  warnings.warn(\n"
     ]
    },
    {
     "name": "stdout",
     "output_type": "stream",
     "text": [
      "Begin to train ST data...\n"
     ]
    },
    {
     "name": "stderr",
     "output_type": "stream",
     "text": [
      "100%|████████████████████████████████████████████████████████████████████████████████| 600/600 [06:13<00:00,  1.61it/s]\n"
     ]
    },
    {
     "name": "stdout",
     "output_type": "stream",
     "text": [
      "Optimization finished for ST data!\n",
      "fitting ...\n",
      "  |======================================================================| 100%\n"
     ]
    },
    {
     "name": "stderr",
     "output_type": "stream",
     "text": [
      "C:\\Users\\chand\\anaconda3\\envs\\GraphST\\lib\\site-packages\\anndata\\_core\\anndata.py:788: UserWarning: \n",
      "AnnData expects .obs.index to contain strings, but got values like:\n",
      "    [1, 2, 3, 4, 5]\n",
      "\n",
      "    Inferred to be: integer\n",
      "\n",
      "  value_idx = self._prep_dim_index(value.index, attr)\n",
      "C:\\Users\\chand\\anaconda3\\envs\\GraphST\\lib\\site-packages\\anndata\\_core\\anndata.py:121: ImplicitModificationWarning: Transforming to str index.\n",
      "  warnings.warn(\"Transforming to str index.\", ImplicitModificationWarning)\n",
      "C:\\Users\\chand\\anaconda3\\envs\\GraphST\\lib\\site-packages\\scanpy\\preprocessing\\_highly_variable_genes.py:62: UserWarning: `flavor='seurat_v3'` expects raw count data, but non-integers were found.\n",
      "  warnings.warn(\n"
     ]
    },
    {
     "name": "stdout",
     "output_type": "stream",
     "text": [
      "Begin to train ST data...\n"
     ]
    },
    {
     "name": "stderr",
     "output_type": "stream",
     "text": [
      "100%|████████████████████████████████████████████████████████████████████████████████| 600/600 [05:55<00:00,  1.69it/s]\n"
     ]
    },
    {
     "name": "stdout",
     "output_type": "stream",
     "text": [
      "Optimization finished for ST data!\n",
      "fitting ...\n",
      "  |======================================================================| 100%\n"
     ]
    },
    {
     "name": "stderr",
     "output_type": "stream",
     "text": [
      "C:\\Users\\chand\\anaconda3\\envs\\GraphST\\lib\\site-packages\\anndata\\_core\\anndata.py:788: UserWarning: \n",
      "AnnData expects .obs.index to contain strings, but got values like:\n",
      "    [1, 2, 3, 4, 5]\n",
      "\n",
      "    Inferred to be: integer\n",
      "\n",
      "  value_idx = self._prep_dim_index(value.index, attr)\n",
      "C:\\Users\\chand\\anaconda3\\envs\\GraphST\\lib\\site-packages\\anndata\\_core\\anndata.py:121: ImplicitModificationWarning: Transforming to str index.\n",
      "  warnings.warn(\"Transforming to str index.\", ImplicitModificationWarning)\n",
      "C:\\Users\\chand\\anaconda3\\envs\\GraphST\\lib\\site-packages\\scanpy\\preprocessing\\_highly_variable_genes.py:62: UserWarning: `flavor='seurat_v3'` expects raw count data, but non-integers were found.\n",
      "  warnings.warn(\n"
     ]
    },
    {
     "name": "stdout",
     "output_type": "stream",
     "text": [
      "Begin to train ST data...\n"
     ]
    },
    {
     "name": "stderr",
     "output_type": "stream",
     "text": [
      "100%|████████████████████████████████████████████████████████████████████████████████| 600/600 [02:07<00:00,  4.70it/s]\n"
     ]
    },
    {
     "name": "stdout",
     "output_type": "stream",
     "text": [
      "Optimization finished for ST data!\n",
      "fitting ...\n",
      "  |======================================================================| 100%\n"
     ]
    },
    {
     "name": "stderr",
     "output_type": "stream",
     "text": [
      "C:\\Users\\chand\\anaconda3\\envs\\GraphST\\lib\\site-packages\\anndata\\_core\\anndata.py:788: UserWarning: \n",
      "AnnData expects .obs.index to contain strings, but got values like:\n",
      "    [1, 2, 3, 4, 5]\n",
      "\n",
      "    Inferred to be: integer\n",
      "\n",
      "  value_idx = self._prep_dim_index(value.index, attr)\n",
      "C:\\Users\\chand\\anaconda3\\envs\\GraphST\\lib\\site-packages\\anndata\\_core\\anndata.py:121: ImplicitModificationWarning: Transforming to str index.\n",
      "  warnings.warn(\"Transforming to str index.\", ImplicitModificationWarning)\n",
      "C:\\Users\\chand\\anaconda3\\envs\\GraphST\\lib\\site-packages\\scanpy\\preprocessing\\_highly_variable_genes.py:62: UserWarning: `flavor='seurat_v3'` expects raw count data, but non-integers were found.\n",
      "  warnings.warn(\n"
     ]
    },
    {
     "name": "stdout",
     "output_type": "stream",
     "text": [
      "Begin to train ST data...\n"
     ]
    },
    {
     "name": "stderr",
     "output_type": "stream",
     "text": [
      "100%|████████████████████████████████████████████████████████████████████████████████| 600/600 [02:09<00:00,  4.64it/s]\n"
     ]
    },
    {
     "name": "stdout",
     "output_type": "stream",
     "text": [
      "Optimization finished for ST data!\n",
      "fitting ...\n",
      "  |======================================================================| 100%\n"
     ]
    },
    {
     "name": "stderr",
     "output_type": "stream",
     "text": [
      "C:\\Users\\chand\\anaconda3\\envs\\GraphST\\lib\\site-packages\\anndata\\_core\\anndata.py:788: UserWarning: \n",
      "AnnData expects .obs.index to contain strings, but got values like:\n",
      "    [1, 2, 3, 4, 5]\n",
      "\n",
      "    Inferred to be: integer\n",
      "\n",
      "  value_idx = self._prep_dim_index(value.index, attr)\n",
      "C:\\Users\\chand\\anaconda3\\envs\\GraphST\\lib\\site-packages\\anndata\\_core\\anndata.py:121: ImplicitModificationWarning: Transforming to str index.\n",
      "  warnings.warn(\"Transforming to str index.\", ImplicitModificationWarning)\n",
      "C:\\Users\\chand\\anaconda3\\envs\\GraphST\\lib\\site-packages\\scanpy\\preprocessing\\_highly_variable_genes.py:62: UserWarning: `flavor='seurat_v3'` expects raw count data, but non-integers were found.\n",
      "  warnings.warn(\n"
     ]
    },
    {
     "name": "stdout",
     "output_type": "stream",
     "text": [
      "Begin to train ST data...\n"
     ]
    },
    {
     "name": "stderr",
     "output_type": "stream",
     "text": [
      "100%|████████████████████████████████████████████████████████████████████████████████| 600/600 [02:45<00:00,  3.63it/s]\n"
     ]
    },
    {
     "name": "stdout",
     "output_type": "stream",
     "text": [
      "Optimization finished for ST data!\n",
      "fitting ...\n",
      "  |======================================================================| 100%\n"
     ]
    },
    {
     "name": "stderr",
     "output_type": "stream",
     "text": [
      "C:\\Users\\chand\\anaconda3\\envs\\GraphST\\lib\\site-packages\\anndata\\_core\\anndata.py:788: UserWarning: \n",
      "AnnData expects .obs.index to contain strings, but got values like:\n",
      "    [1, 2, 3, 4, 5]\n",
      "\n",
      "    Inferred to be: integer\n",
      "\n",
      "  value_idx = self._prep_dim_index(value.index, attr)\n",
      "C:\\Users\\chand\\anaconda3\\envs\\GraphST\\lib\\site-packages\\anndata\\_core\\anndata.py:121: ImplicitModificationWarning: Transforming to str index.\n",
      "  warnings.warn(\"Transforming to str index.\", ImplicitModificationWarning)\n",
      "C:\\Users\\chand\\anaconda3\\envs\\GraphST\\lib\\site-packages\\scanpy\\preprocessing\\_highly_variable_genes.py:62: UserWarning: `flavor='seurat_v3'` expects raw count data, but non-integers were found.\n",
      "  warnings.warn(\n"
     ]
    },
    {
     "name": "stdout",
     "output_type": "stream",
     "text": [
      "Begin to train ST data...\n"
     ]
    },
    {
     "name": "stderr",
     "output_type": "stream",
     "text": [
      "100%|████████████████████████████████████████████████████████████████████████████████| 600/600 [02:39<00:00,  3.76it/s]\n"
     ]
    },
    {
     "name": "stdout",
     "output_type": "stream",
     "text": [
      "Optimization finished for ST data!\n",
      "fitting ...\n",
      "  |======================================================================| 100%\n"
     ]
    },
    {
     "name": "stderr",
     "output_type": "stream",
     "text": [
      "C:\\Users\\chand\\anaconda3\\envs\\GraphST\\lib\\site-packages\\anndata\\_core\\anndata.py:788: UserWarning: \n",
      "AnnData expects .obs.index to contain strings, but got values like:\n",
      "    [1, 2, 3, 4, 5]\n",
      "\n",
      "    Inferred to be: integer\n",
      "\n",
      "  value_idx = self._prep_dim_index(value.index, attr)\n",
      "C:\\Users\\chand\\anaconda3\\envs\\GraphST\\lib\\site-packages\\anndata\\_core\\anndata.py:121: ImplicitModificationWarning: Transforming to str index.\n",
      "  warnings.warn(\"Transforming to str index.\", ImplicitModificationWarning)\n",
      "C:\\Users\\chand\\anaconda3\\envs\\GraphST\\lib\\site-packages\\scanpy\\preprocessing\\_highly_variable_genes.py:62: UserWarning: `flavor='seurat_v3'` expects raw count data, but non-integers were found.\n",
      "  warnings.warn(\n"
     ]
    },
    {
     "name": "stdout",
     "output_type": "stream",
     "text": [
      "Begin to train ST data...\n"
     ]
    },
    {
     "name": "stderr",
     "output_type": "stream",
     "text": [
      "100%|████████████████████████████████████████████████████████████████████████████████| 600/600 [08:10<00:00,  1.22it/s]\n"
     ]
    },
    {
     "name": "stdout",
     "output_type": "stream",
     "text": [
      "Optimization finished for ST data!\n",
      "fitting ...\n",
      "  |======================================================================| 100%\n"
     ]
    },
    {
     "name": "stderr",
     "output_type": "stream",
     "text": [
      "C:\\Users\\chand\\anaconda3\\envs\\GraphST\\lib\\site-packages\\anndata\\_core\\anndata.py:788: UserWarning: \n",
      "AnnData expects .obs.index to contain strings, but got values like:\n",
      "    [1, 2, 3, 4, 5]\n",
      "\n",
      "    Inferred to be: integer\n",
      "\n",
      "  value_idx = self._prep_dim_index(value.index, attr)\n",
      "C:\\Users\\chand\\anaconda3\\envs\\GraphST\\lib\\site-packages\\anndata\\_core\\anndata.py:121: ImplicitModificationWarning: Transforming to str index.\n",
      "  warnings.warn(\"Transforming to str index.\", ImplicitModificationWarning)\n",
      "C:\\Users\\chand\\anaconda3\\envs\\GraphST\\lib\\site-packages\\scanpy\\preprocessing\\_highly_variable_genes.py:62: UserWarning: `flavor='seurat_v3'` expects raw count data, but non-integers were found.\n",
      "  warnings.warn(\n"
     ]
    },
    {
     "name": "stdout",
     "output_type": "stream",
     "text": [
      "Begin to train ST data...\n"
     ]
    },
    {
     "name": "stderr",
     "output_type": "stream",
     "text": [
      "100%|████████████████████████████████████████████████████████████████████████████████| 600/600 [02:06<00:00,  4.75it/s]\n"
     ]
    },
    {
     "name": "stdout",
     "output_type": "stream",
     "text": [
      "Optimization finished for ST data!\n",
      "fitting ...\n",
      "  |======================================================================| 100%\n"
     ]
    },
    {
     "name": "stderr",
     "output_type": "stream",
     "text": [
      "C:\\Users\\chand\\anaconda3\\envs\\GraphST\\lib\\site-packages\\anndata\\_core\\anndata.py:788: UserWarning: \n",
      "AnnData expects .obs.index to contain strings, but got values like:\n",
      "    [1, 2, 3, 4, 5]\n",
      "\n",
      "    Inferred to be: integer\n",
      "\n",
      "  value_idx = self._prep_dim_index(value.index, attr)\n",
      "C:\\Users\\chand\\anaconda3\\envs\\GraphST\\lib\\site-packages\\anndata\\_core\\anndata.py:121: ImplicitModificationWarning: Transforming to str index.\n",
      "  warnings.warn(\"Transforming to str index.\", ImplicitModificationWarning)\n",
      "C:\\Users\\chand\\anaconda3\\envs\\GraphST\\lib\\site-packages\\scanpy\\preprocessing\\_highly_variable_genes.py:62: UserWarning: `flavor='seurat_v3'` expects raw count data, but non-integers were found.\n",
      "  warnings.warn(\n"
     ]
    },
    {
     "name": "stdout",
     "output_type": "stream",
     "text": [
      "Begin to train ST data...\n"
     ]
    },
    {
     "name": "stderr",
     "output_type": "stream",
     "text": [
      "100%|████████████████████████████████████████████████████████████████████████████████| 600/600 [05:58<00:00,  1.67it/s]\n"
     ]
    },
    {
     "name": "stdout",
     "output_type": "stream",
     "text": [
      "Optimization finished for ST data!\n",
      "fitting ...\n",
      "  |======================================================================| 100%\n"
     ]
    },
    {
     "name": "stderr",
     "output_type": "stream",
     "text": [
      "C:\\Users\\chand\\anaconda3\\envs\\GraphST\\lib\\site-packages\\anndata\\_core\\anndata.py:788: UserWarning: \n",
      "AnnData expects .obs.index to contain strings, but got values like:\n",
      "    [1, 2, 3, 4, 5]\n",
      "\n",
      "    Inferred to be: integer\n",
      "\n",
      "  value_idx = self._prep_dim_index(value.index, attr)\n",
      "C:\\Users\\chand\\anaconda3\\envs\\GraphST\\lib\\site-packages\\anndata\\_core\\anndata.py:121: ImplicitModificationWarning: Transforming to str index.\n",
      "  warnings.warn(\"Transforming to str index.\", ImplicitModificationWarning)\n",
      "C:\\Users\\chand\\anaconda3\\envs\\GraphST\\lib\\site-packages\\scanpy\\preprocessing\\_highly_variable_genes.py:62: UserWarning: `flavor='seurat_v3'` expects raw count data, but non-integers were found.\n",
      "  warnings.warn(\n"
     ]
    },
    {
     "name": "stdout",
     "output_type": "stream",
     "text": [
      "Begin to train ST data...\n"
     ]
    },
    {
     "name": "stderr",
     "output_type": "stream",
     "text": [
      "100%|████████████████████████████████████████████████████████████████████████████████| 600/600 [02:03<00:00,  4.87it/s]\n"
     ]
    },
    {
     "name": "stdout",
     "output_type": "stream",
     "text": [
      "Optimization finished for ST data!\n",
      "fitting ...\n",
      "  |======================================================================| 100%\n"
     ]
    },
    {
     "name": "stderr",
     "output_type": "stream",
     "text": [
      "C:\\Users\\chand\\anaconda3\\envs\\GraphST\\lib\\site-packages\\anndata\\_core\\anndata.py:788: UserWarning: \n",
      "AnnData expects .obs.index to contain strings, but got values like:\n",
      "    [1, 2, 3, 4, 5]\n",
      "\n",
      "    Inferred to be: integer\n",
      "\n",
      "  value_idx = self._prep_dim_index(value.index, attr)\n",
      "C:\\Users\\chand\\anaconda3\\envs\\GraphST\\lib\\site-packages\\anndata\\_core\\anndata.py:121: ImplicitModificationWarning: Transforming to str index.\n",
      "  warnings.warn(\"Transforming to str index.\", ImplicitModificationWarning)\n",
      "C:\\Users\\chand\\anaconda3\\envs\\GraphST\\lib\\site-packages\\scanpy\\preprocessing\\_highly_variable_genes.py:62: UserWarning: `flavor='seurat_v3'` expects raw count data, but non-integers were found.\n",
      "  warnings.warn(\n"
     ]
    },
    {
     "name": "stdout",
     "output_type": "stream",
     "text": [
      "Begin to train ST data...\n"
     ]
    },
    {
     "name": "stderr",
     "output_type": "stream",
     "text": [
      "100%|████████████████████████████████████████████████████████████████████████████████| 600/600 [02:05<00:00,  4.79it/s]\n"
     ]
    },
    {
     "name": "stdout",
     "output_type": "stream",
     "text": [
      "Optimization finished for ST data!\n",
      "fitting ...\n",
      "  |======================================================================| 100%\n"
     ]
    },
    {
     "name": "stderr",
     "output_type": "stream",
     "text": [
      "C:\\Users\\chand\\anaconda3\\envs\\GraphST\\lib\\site-packages\\anndata\\_core\\anndata.py:788: UserWarning: \n",
      "AnnData expects .obs.index to contain strings, but got values like:\n",
      "    [1, 2, 3, 4, 5]\n",
      "\n",
      "    Inferred to be: integer\n",
      "\n",
      "  value_idx = self._prep_dim_index(value.index, attr)\n",
      "C:\\Users\\chand\\anaconda3\\envs\\GraphST\\lib\\site-packages\\anndata\\_core\\anndata.py:121: ImplicitModificationWarning: Transforming to str index.\n",
      "  warnings.warn(\"Transforming to str index.\", ImplicitModificationWarning)\n",
      "C:\\Users\\chand\\anaconda3\\envs\\GraphST\\lib\\site-packages\\scanpy\\preprocessing\\_highly_variable_genes.py:62: UserWarning: `flavor='seurat_v3'` expects raw count data, but non-integers were found.\n",
      "  warnings.warn(\n"
     ]
    },
    {
     "name": "stdout",
     "output_type": "stream",
     "text": [
      "Begin to train ST data...\n"
     ]
    },
    {
     "name": "stderr",
     "output_type": "stream",
     "text": [
      "100%|████████████████████████████████████████████████████████████████████████████████| 600/600 [01:13<00:00,  8.19it/s]\n"
     ]
    },
    {
     "name": "stdout",
     "output_type": "stream",
     "text": [
      "Optimization finished for ST data!\n",
      "fitting ...\n",
      "  |======================================================================| 100%\n"
     ]
    },
    {
     "name": "stderr",
     "output_type": "stream",
     "text": [
      "C:\\Users\\chand\\anaconda3\\envs\\GraphST\\lib\\site-packages\\anndata\\_core\\anndata.py:788: UserWarning: \n",
      "AnnData expects .obs.index to contain strings, but got values like:\n",
      "    [1, 2, 3, 4, 5]\n",
      "\n",
      "    Inferred to be: integer\n",
      "\n",
      "  value_idx = self._prep_dim_index(value.index, attr)\n",
      "C:\\Users\\chand\\anaconda3\\envs\\GraphST\\lib\\site-packages\\anndata\\_core\\anndata.py:121: ImplicitModificationWarning: Transforming to str index.\n",
      "  warnings.warn(\"Transforming to str index.\", ImplicitModificationWarning)\n",
      "C:\\Users\\chand\\anaconda3\\envs\\GraphST\\lib\\site-packages\\scanpy\\preprocessing\\_highly_variable_genes.py:62: UserWarning: `flavor='seurat_v3'` expects raw count data, but non-integers were found.\n",
      "  warnings.warn(\n"
     ]
    },
    {
     "name": "stdout",
     "output_type": "stream",
     "text": [
      "Begin to train ST data...\n"
     ]
    },
    {
     "name": "stderr",
     "output_type": "stream",
     "text": [
      "100%|████████████████████████████████████████████████████████████████████████████████| 600/600 [01:53<00:00,  5.30it/s]\n"
     ]
    },
    {
     "name": "stdout",
     "output_type": "stream",
     "text": [
      "Optimization finished for ST data!\n",
      "fitting ...\n",
      "  |======================================================================| 100%\n"
     ]
    },
    {
     "name": "stderr",
     "output_type": "stream",
     "text": [
      "C:\\Users\\chand\\anaconda3\\envs\\GraphST\\lib\\site-packages\\anndata\\_core\\anndata.py:788: UserWarning: \n",
      "AnnData expects .obs.index to contain strings, but got values like:\n",
      "    [1, 2, 3, 4, 5]\n",
      "\n",
      "    Inferred to be: integer\n",
      "\n",
      "  value_idx = self._prep_dim_index(value.index, attr)\n",
      "C:\\Users\\chand\\anaconda3\\envs\\GraphST\\lib\\site-packages\\anndata\\_core\\anndata.py:121: ImplicitModificationWarning: Transforming to str index.\n",
      "  warnings.warn(\"Transforming to str index.\", ImplicitModificationWarning)\n",
      "C:\\Users\\chand\\anaconda3\\envs\\GraphST\\lib\\site-packages\\scanpy\\preprocessing\\_highly_variable_genes.py:62: UserWarning: `flavor='seurat_v3'` expects raw count data, but non-integers were found.\n",
      "  warnings.warn(\n"
     ]
    },
    {
     "name": "stdout",
     "output_type": "stream",
     "text": [
      "Begin to train ST data...\n"
     ]
    },
    {
     "name": "stderr",
     "output_type": "stream",
     "text": [
      "100%|████████████████████████████████████████████████████████████████████████████████| 600/600 [01:40<00:00,  6.00it/s]\n"
     ]
    },
    {
     "name": "stdout",
     "output_type": "stream",
     "text": [
      "Optimization finished for ST data!\n",
      "fitting ...\n",
      "  |======================================================================| 100%\n"
     ]
    },
    {
     "name": "stderr",
     "output_type": "stream",
     "text": [
      "C:\\Users\\chand\\anaconda3\\envs\\GraphST\\lib\\site-packages\\anndata\\_core\\anndata.py:788: UserWarning: \n",
      "AnnData expects .obs.index to contain strings, but got values like:\n",
      "    [1, 2, 3, 4, 5]\n",
      "\n",
      "    Inferred to be: integer\n",
      "\n",
      "  value_idx = self._prep_dim_index(value.index, attr)\n",
      "C:\\Users\\chand\\anaconda3\\envs\\GraphST\\lib\\site-packages\\anndata\\_core\\anndata.py:121: ImplicitModificationWarning: Transforming to str index.\n",
      "  warnings.warn(\"Transforming to str index.\", ImplicitModificationWarning)\n",
      "C:\\Users\\chand\\anaconda3\\envs\\GraphST\\lib\\site-packages\\scanpy\\preprocessing\\_highly_variable_genes.py:62: UserWarning: `flavor='seurat_v3'` expects raw count data, but non-integers were found.\n",
      "  warnings.warn(\n"
     ]
    },
    {
     "name": "stdout",
     "output_type": "stream",
     "text": [
      "Begin to train ST data...\n"
     ]
    },
    {
     "name": "stderr",
     "output_type": "stream",
     "text": [
      "100%|████████████████████████████████████████████████████████████████████████████████| 600/600 [02:58<00:00,  3.35it/s]\n"
     ]
    },
    {
     "name": "stdout",
     "output_type": "stream",
     "text": [
      "Optimization finished for ST data!\n",
      "fitting ...\n",
      "  |======================================================================| 100%\n"
     ]
    },
    {
     "name": "stderr",
     "output_type": "stream",
     "text": [
      "C:\\Users\\chand\\anaconda3\\envs\\GraphST\\lib\\site-packages\\anndata\\_core\\anndata.py:788: UserWarning: \n",
      "AnnData expects .obs.index to contain strings, but got values like:\n",
      "    [1, 2, 3, 4, 5]\n",
      "\n",
      "    Inferred to be: integer\n",
      "\n",
      "  value_idx = self._prep_dim_index(value.index, attr)\n",
      "C:\\Users\\chand\\anaconda3\\envs\\GraphST\\lib\\site-packages\\anndata\\_core\\anndata.py:121: ImplicitModificationWarning: Transforming to str index.\n",
      "  warnings.warn(\"Transforming to str index.\", ImplicitModificationWarning)\n",
      "C:\\Users\\chand\\anaconda3\\envs\\GraphST\\lib\\site-packages\\scanpy\\preprocessing\\_highly_variable_genes.py:62: UserWarning: `flavor='seurat_v3'` expects raw count data, but non-integers were found.\n",
      "  warnings.warn(\n"
     ]
    },
    {
     "name": "stdout",
     "output_type": "stream",
     "text": [
      "Begin to train ST data...\n"
     ]
    },
    {
     "name": "stderr",
     "output_type": "stream",
     "text": [
      "100%|████████████████████████████████████████████████████████████████████████████████| 600/600 [04:20<00:00,  2.30it/s]\n"
     ]
    },
    {
     "name": "stdout",
     "output_type": "stream",
     "text": [
      "Optimization finished for ST data!\n",
      "fitting ...\n",
      "  |======================================================================| 100%\n"
     ]
    },
    {
     "name": "stderr",
     "output_type": "stream",
     "text": [
      "C:\\Users\\chand\\anaconda3\\envs\\GraphST\\lib\\site-packages\\anndata\\_core\\anndata.py:788: UserWarning: \n",
      "AnnData expects .obs.index to contain strings, but got values like:\n",
      "    [1, 2, 3, 4, 5]\n",
      "\n",
      "    Inferred to be: integer\n",
      "\n",
      "  value_idx = self._prep_dim_index(value.index, attr)\n",
      "C:\\Users\\chand\\anaconda3\\envs\\GraphST\\lib\\site-packages\\anndata\\_core\\anndata.py:121: ImplicitModificationWarning: Transforming to str index.\n",
      "  warnings.warn(\"Transforming to str index.\", ImplicitModificationWarning)\n",
      "C:\\Users\\chand\\anaconda3\\envs\\GraphST\\lib\\site-packages\\scanpy\\preprocessing\\_highly_variable_genes.py:62: UserWarning: `flavor='seurat_v3'` expects raw count data, but non-integers were found.\n",
      "  warnings.warn(\n"
     ]
    },
    {
     "name": "stdout",
     "output_type": "stream",
     "text": [
      "Begin to train ST data...\n"
     ]
    },
    {
     "name": "stderr",
     "output_type": "stream",
     "text": [
      "100%|████████████████████████████████████████████████████████████████████████████████| 600/600 [02:21<00:00,  4.24it/s]\n"
     ]
    },
    {
     "name": "stdout",
     "output_type": "stream",
     "text": [
      "Optimization finished for ST data!\n",
      "fitting ...\n",
      "  |======================================================================| 100%\n"
     ]
    },
    {
     "name": "stderr",
     "output_type": "stream",
     "text": [
      "C:\\Users\\chand\\anaconda3\\envs\\GraphST\\lib\\site-packages\\anndata\\_core\\anndata.py:788: UserWarning: \n",
      "AnnData expects .obs.index to contain strings, but got values like:\n",
      "    [1, 2, 3, 4, 5]\n",
      "\n",
      "    Inferred to be: integer\n",
      "\n",
      "  value_idx = self._prep_dim_index(value.index, attr)\n",
      "C:\\Users\\chand\\anaconda3\\envs\\GraphST\\lib\\site-packages\\anndata\\_core\\anndata.py:121: ImplicitModificationWarning: Transforming to str index.\n",
      "  warnings.warn(\"Transforming to str index.\", ImplicitModificationWarning)\n",
      "C:\\Users\\chand\\anaconda3\\envs\\GraphST\\lib\\site-packages\\scanpy\\preprocessing\\_highly_variable_genes.py:62: UserWarning: `flavor='seurat_v3'` expects raw count data, but non-integers were found.\n",
      "  warnings.warn(\n"
     ]
    },
    {
     "name": "stdout",
     "output_type": "stream",
     "text": [
      "Begin to train ST data...\n"
     ]
    },
    {
     "name": "stderr",
     "output_type": "stream",
     "text": [
      "100%|████████████████████████████████████████████████████████████████████████████████| 600/600 [01:40<00:00,  5.95it/s]\n"
     ]
    },
    {
     "name": "stdout",
     "output_type": "stream",
     "text": [
      "Optimization finished for ST data!\n",
      "fitting ...\n",
      "  |======================================================================| 100%\n"
     ]
    },
    {
     "name": "stderr",
     "output_type": "stream",
     "text": [
      "C:\\Users\\chand\\anaconda3\\envs\\GraphST\\lib\\site-packages\\anndata\\_core\\anndata.py:788: UserWarning: \n",
      "AnnData expects .obs.index to contain strings, but got values like:\n",
      "    [1, 2, 3, 4, 5]\n",
      "\n",
      "    Inferred to be: integer\n",
      "\n",
      "  value_idx = self._prep_dim_index(value.index, attr)\n",
      "C:\\Users\\chand\\anaconda3\\envs\\GraphST\\lib\\site-packages\\anndata\\_core\\anndata.py:121: ImplicitModificationWarning: Transforming to str index.\n",
      "  warnings.warn(\"Transforming to str index.\", ImplicitModificationWarning)\n",
      "C:\\Users\\chand\\anaconda3\\envs\\GraphST\\lib\\site-packages\\scanpy\\preprocessing\\_highly_variable_genes.py:62: UserWarning: `flavor='seurat_v3'` expects raw count data, but non-integers were found.\n",
      "  warnings.warn(\n"
     ]
    },
    {
     "name": "stdout",
     "output_type": "stream",
     "text": [
      "Begin to train ST data...\n"
     ]
    },
    {
     "name": "stderr",
     "output_type": "stream",
     "text": [
      "100%|████████████████████████████████████████████████████████████████████████████████| 600/600 [03:16<00:00,  3.06it/s]\n"
     ]
    },
    {
     "name": "stdout",
     "output_type": "stream",
     "text": [
      "Optimization finished for ST data!\n",
      "fitting ...\n",
      "  |======================================================================| 100%\n"
     ]
    },
    {
     "name": "stderr",
     "output_type": "stream",
     "text": [
      "C:\\Users\\chand\\anaconda3\\envs\\GraphST\\lib\\site-packages\\anndata\\_core\\anndata.py:788: UserWarning: \n",
      "AnnData expects .obs.index to contain strings, but got values like:\n",
      "    [1, 2, 3, 4, 5]\n",
      "\n",
      "    Inferred to be: integer\n",
      "\n",
      "  value_idx = self._prep_dim_index(value.index, attr)\n",
      "C:\\Users\\chand\\anaconda3\\envs\\GraphST\\lib\\site-packages\\anndata\\_core\\anndata.py:121: ImplicitModificationWarning: Transforming to str index.\n",
      "  warnings.warn(\"Transforming to str index.\", ImplicitModificationWarning)\n",
      "C:\\Users\\chand\\anaconda3\\envs\\GraphST\\lib\\site-packages\\scanpy\\preprocessing\\_highly_variable_genes.py:62: UserWarning: `flavor='seurat_v3'` expects raw count data, but non-integers were found.\n",
      "  warnings.warn(\n"
     ]
    },
    {
     "name": "stdout",
     "output_type": "stream",
     "text": [
      "Begin to train ST data...\n"
     ]
    },
    {
     "name": "stderr",
     "output_type": "stream",
     "text": [
      "100%|████████████████████████████████████████████████████████████████████████████████| 600/600 [01:46<00:00,  5.61it/s]\n"
     ]
    },
    {
     "name": "stdout",
     "output_type": "stream",
     "text": [
      "Optimization finished for ST data!\n",
      "fitting ...\n",
      "  |======================================================================| 100%\n"
     ]
    },
    {
     "name": "stderr",
     "output_type": "stream",
     "text": [
      "C:\\Users\\chand\\anaconda3\\envs\\GraphST\\lib\\site-packages\\anndata\\_core\\anndata.py:788: UserWarning: \n",
      "AnnData expects .obs.index to contain strings, but got values like:\n",
      "    [1, 2, 3, 4, 5]\n",
      "\n",
      "    Inferred to be: integer\n",
      "\n",
      "  value_idx = self._prep_dim_index(value.index, attr)\n",
      "C:\\Users\\chand\\anaconda3\\envs\\GraphST\\lib\\site-packages\\anndata\\_core\\anndata.py:121: ImplicitModificationWarning: Transforming to str index.\n",
      "  warnings.warn(\"Transforming to str index.\", ImplicitModificationWarning)\n",
      "C:\\Users\\chand\\anaconda3\\envs\\GraphST\\lib\\site-packages\\scanpy\\preprocessing\\_highly_variable_genes.py:62: UserWarning: `flavor='seurat_v3'` expects raw count data, but non-integers were found.\n",
      "  warnings.warn(\n"
     ]
    },
    {
     "name": "stdout",
     "output_type": "stream",
     "text": [
      "Begin to train ST data...\n"
     ]
    },
    {
     "name": "stderr",
     "output_type": "stream",
     "text": [
      "100%|████████████████████████████████████████████████████████████████████████████████| 600/600 [03:11<00:00,  3.14it/s]\n"
     ]
    },
    {
     "name": "stdout",
     "output_type": "stream",
     "text": [
      "Optimization finished for ST data!\n",
      "fitting ...\n",
      "  |======================================================================| 100%\n"
     ]
    },
    {
     "name": "stderr",
     "output_type": "stream",
     "text": [
      "C:\\Users\\chand\\anaconda3\\envs\\GraphST\\lib\\site-packages\\anndata\\_core\\anndata.py:788: UserWarning: \n",
      "AnnData expects .obs.index to contain strings, but got values like:\n",
      "    [1, 2, 3, 4, 5]\n",
      "\n",
      "    Inferred to be: integer\n",
      "\n",
      "  value_idx = self._prep_dim_index(value.index, attr)\n",
      "C:\\Users\\chand\\anaconda3\\envs\\GraphST\\lib\\site-packages\\anndata\\_core\\anndata.py:121: ImplicitModificationWarning: Transforming to str index.\n",
      "  warnings.warn(\"Transforming to str index.\", ImplicitModificationWarning)\n",
      "C:\\Users\\chand\\anaconda3\\envs\\GraphST\\lib\\site-packages\\scanpy\\preprocessing\\_highly_variable_genes.py:62: UserWarning: `flavor='seurat_v3'` expects raw count data, but non-integers were found.\n",
      "  warnings.warn(\n"
     ]
    },
    {
     "name": "stdout",
     "output_type": "stream",
     "text": [
      "Begin to train ST data...\n"
     ]
    },
    {
     "name": "stderr",
     "output_type": "stream",
     "text": [
      "100%|████████████████████████████████████████████████████████████████████████████████| 600/600 [02:37<00:00,  3.82it/s]\n"
     ]
    },
    {
     "name": "stdout",
     "output_type": "stream",
     "text": [
      "Optimization finished for ST data!\n",
      "fitting ...\n",
      "  |======================================================================| 100%\n"
     ]
    },
    {
     "name": "stderr",
     "output_type": "stream",
     "text": [
      "C:\\Users\\chand\\anaconda3\\envs\\GraphST\\lib\\site-packages\\anndata\\_core\\anndata.py:788: UserWarning: \n",
      "AnnData expects .obs.index to contain strings, but got values like:\n",
      "    [1, 2, 3, 4, 5]\n",
      "\n",
      "    Inferred to be: integer\n",
      "\n",
      "  value_idx = self._prep_dim_index(value.index, attr)\n",
      "C:\\Users\\chand\\anaconda3\\envs\\GraphST\\lib\\site-packages\\anndata\\_core\\anndata.py:121: ImplicitModificationWarning: Transforming to str index.\n",
      "  warnings.warn(\"Transforming to str index.\", ImplicitModificationWarning)\n",
      "C:\\Users\\chand\\anaconda3\\envs\\GraphST\\lib\\site-packages\\scanpy\\preprocessing\\_highly_variable_genes.py:62: UserWarning: `flavor='seurat_v3'` expects raw count data, but non-integers were found.\n",
      "  warnings.warn(\n"
     ]
    },
    {
     "name": "stdout",
     "output_type": "stream",
     "text": [
      "Begin to train ST data...\n"
     ]
    },
    {
     "name": "stderr",
     "output_type": "stream",
     "text": [
      "100%|████████████████████████████████████████████████████████████████████████████████| 600/600 [03:02<00:00,  3.28it/s]\n"
     ]
    },
    {
     "name": "stdout",
     "output_type": "stream",
     "text": [
      "Optimization finished for ST data!\n",
      "fitting ...\n",
      "  |======================================================================| 100%\n"
     ]
    },
    {
     "name": "stderr",
     "output_type": "stream",
     "text": [
      "C:\\Users\\chand\\anaconda3\\envs\\GraphST\\lib\\site-packages\\anndata\\_core\\anndata.py:788: UserWarning: \n",
      "AnnData expects .obs.index to contain strings, but got values like:\n",
      "    [1, 2, 3, 4, 5]\n",
      "\n",
      "    Inferred to be: integer\n",
      "\n",
      "  value_idx = self._prep_dim_index(value.index, attr)\n",
      "C:\\Users\\chand\\anaconda3\\envs\\GraphST\\lib\\site-packages\\anndata\\_core\\anndata.py:121: ImplicitModificationWarning: Transforming to str index.\n",
      "  warnings.warn(\"Transforming to str index.\", ImplicitModificationWarning)\n",
      "C:\\Users\\chand\\anaconda3\\envs\\GraphST\\lib\\site-packages\\scanpy\\preprocessing\\_highly_variable_genes.py:62: UserWarning: `flavor='seurat_v3'` expects raw count data, but non-integers were found.\n",
      "  warnings.warn(\n"
     ]
    },
    {
     "name": "stdout",
     "output_type": "stream",
     "text": [
      "Begin to train ST data...\n"
     ]
    },
    {
     "name": "stderr",
     "output_type": "stream",
     "text": [
      "100%|████████████████████████████████████████████████████████████████████████████████| 600/600 [03:16<00:00,  3.05it/s]\n"
     ]
    },
    {
     "name": "stdout",
     "output_type": "stream",
     "text": [
      "Optimization finished for ST data!\n",
      "fitting ...\n",
      "  |======================================================================| 100%\n"
     ]
    },
    {
     "name": "stderr",
     "output_type": "stream",
     "text": [
      "C:\\Users\\chand\\anaconda3\\envs\\GraphST\\lib\\site-packages\\anndata\\_core\\anndata.py:788: UserWarning: \n",
      "AnnData expects .obs.index to contain strings, but got values like:\n",
      "    [1, 2, 3, 4, 5]\n",
      "\n",
      "    Inferred to be: integer\n",
      "\n",
      "  value_idx = self._prep_dim_index(value.index, attr)\n",
      "C:\\Users\\chand\\anaconda3\\envs\\GraphST\\lib\\site-packages\\anndata\\_core\\anndata.py:121: ImplicitModificationWarning: Transforming to str index.\n",
      "  warnings.warn(\"Transforming to str index.\", ImplicitModificationWarning)\n",
      "C:\\Users\\chand\\anaconda3\\envs\\GraphST\\lib\\site-packages\\scanpy\\preprocessing\\_highly_variable_genes.py:62: UserWarning: `flavor='seurat_v3'` expects raw count data, but non-integers were found.\n",
      "  warnings.warn(\n"
     ]
    },
    {
     "name": "stdout",
     "output_type": "stream",
     "text": [
      "Begin to train ST data...\n"
     ]
    },
    {
     "name": "stderr",
     "output_type": "stream",
     "text": [
      "100%|████████████████████████████████████████████████████████████████████████████████| 600/600 [05:46<00:00,  1.73it/s]\n"
     ]
    },
    {
     "name": "stdout",
     "output_type": "stream",
     "text": [
      "Optimization finished for ST data!\n",
      "fitting ...\n",
      "  |======================================================================| 100%\n"
     ]
    },
    {
     "name": "stderr",
     "output_type": "stream",
     "text": [
      "C:\\Users\\chand\\anaconda3\\envs\\GraphST\\lib\\site-packages\\anndata\\_core\\anndata.py:788: UserWarning: \n",
      "AnnData expects .obs.index to contain strings, but got values like:\n",
      "    [1, 2, 3, 4, 5]\n",
      "\n",
      "    Inferred to be: integer\n",
      "\n",
      "  value_idx = self._prep_dim_index(value.index, attr)\n",
      "C:\\Users\\chand\\anaconda3\\envs\\GraphST\\lib\\site-packages\\anndata\\_core\\anndata.py:121: ImplicitModificationWarning: Transforming to str index.\n",
      "  warnings.warn(\"Transforming to str index.\", ImplicitModificationWarning)\n",
      "C:\\Users\\chand\\anaconda3\\envs\\GraphST\\lib\\site-packages\\scanpy\\preprocessing\\_highly_variable_genes.py:62: UserWarning: `flavor='seurat_v3'` expects raw count data, but non-integers were found.\n",
      "  warnings.warn(\n"
     ]
    },
    {
     "name": "stdout",
     "output_type": "stream",
     "text": [
      "Begin to train ST data...\n"
     ]
    },
    {
     "name": "stderr",
     "output_type": "stream",
     "text": [
      "100%|████████████████████████████████████████████████████████████████████████████████| 600/600 [01:16<00:00,  7.88it/s]\n"
     ]
    },
    {
     "name": "stdout",
     "output_type": "stream",
     "text": [
      "Optimization finished for ST data!\n",
      "fitting ...\n",
      "  |======================================================================| 100%\n"
     ]
    },
    {
     "name": "stderr",
     "output_type": "stream",
     "text": [
      "C:\\Users\\chand\\anaconda3\\envs\\GraphST\\lib\\site-packages\\anndata\\_core\\anndata.py:788: UserWarning: \n",
      "AnnData expects .obs.index to contain strings, but got values like:\n",
      "    [1, 2, 3, 4, 5]\n",
      "\n",
      "    Inferred to be: integer\n",
      "\n",
      "  value_idx = self._prep_dim_index(value.index, attr)\n",
      "C:\\Users\\chand\\anaconda3\\envs\\GraphST\\lib\\site-packages\\anndata\\_core\\anndata.py:121: ImplicitModificationWarning: Transforming to str index.\n",
      "  warnings.warn(\"Transforming to str index.\", ImplicitModificationWarning)\n",
      "C:\\Users\\chand\\anaconda3\\envs\\GraphST\\lib\\site-packages\\scanpy\\preprocessing\\_highly_variable_genes.py:62: UserWarning: `flavor='seurat_v3'` expects raw count data, but non-integers were found.\n",
      "  warnings.warn(\n"
     ]
    },
    {
     "name": "stdout",
     "output_type": "stream",
     "text": [
      "Begin to train ST data...\n"
     ]
    },
    {
     "name": "stderr",
     "output_type": "stream",
     "text": [
      "100%|████████████████████████████████████████████████████████████████████████████████| 600/600 [01:41<00:00,  5.92it/s]\n"
     ]
    },
    {
     "name": "stdout",
     "output_type": "stream",
     "text": [
      "Optimization finished for ST data!\n",
      "fitting ...\n",
      "  |======================================================================| 100%\n"
     ]
    },
    {
     "name": "stderr",
     "output_type": "stream",
     "text": [
      "C:\\Users\\chand\\anaconda3\\envs\\GraphST\\lib\\site-packages\\anndata\\_core\\anndata.py:788: UserWarning: \n",
      "AnnData expects .obs.index to contain strings, but got values like:\n",
      "    [1, 2, 3, 4, 5]\n",
      "\n",
      "    Inferred to be: integer\n",
      "\n",
      "  value_idx = self._prep_dim_index(value.index, attr)\n",
      "C:\\Users\\chand\\anaconda3\\envs\\GraphST\\lib\\site-packages\\anndata\\_core\\anndata.py:121: ImplicitModificationWarning: Transforming to str index.\n",
      "  warnings.warn(\"Transforming to str index.\", ImplicitModificationWarning)\n",
      "C:\\Users\\chand\\anaconda3\\envs\\GraphST\\lib\\site-packages\\scanpy\\preprocessing\\_highly_variable_genes.py:62: UserWarning: `flavor='seurat_v3'` expects raw count data, but non-integers were found.\n",
      "  warnings.warn(\n"
     ]
    },
    {
     "name": "stdout",
     "output_type": "stream",
     "text": [
      "Begin to train ST data...\n"
     ]
    },
    {
     "name": "stderr",
     "output_type": "stream",
     "text": [
      "100%|████████████████████████████████████████████████████████████████████████████████| 600/600 [02:08<00:00,  4.66it/s]\n"
     ]
    },
    {
     "name": "stdout",
     "output_type": "stream",
     "text": [
      "Optimization finished for ST data!\n",
      "fitting ...\n",
      "  |======================================================================| 100%\n"
     ]
    },
    {
     "name": "stderr",
     "output_type": "stream",
     "text": [
      "C:\\Users\\chand\\anaconda3\\envs\\GraphST\\lib\\site-packages\\anndata\\_core\\anndata.py:788: UserWarning: \n",
      "AnnData expects .obs.index to contain strings, but got values like:\n",
      "    [1, 2, 3, 4, 5]\n",
      "\n",
      "    Inferred to be: integer\n",
      "\n",
      "  value_idx = self._prep_dim_index(value.index, attr)\n",
      "C:\\Users\\chand\\anaconda3\\envs\\GraphST\\lib\\site-packages\\anndata\\_core\\anndata.py:121: ImplicitModificationWarning: Transforming to str index.\n",
      "  warnings.warn(\"Transforming to str index.\", ImplicitModificationWarning)\n",
      "C:\\Users\\chand\\anaconda3\\envs\\GraphST\\lib\\site-packages\\scanpy\\preprocessing\\_highly_variable_genes.py:62: UserWarning: `flavor='seurat_v3'` expects raw count data, but non-integers were found.\n",
      "  warnings.warn(\n"
     ]
    },
    {
     "name": "stdout",
     "output_type": "stream",
     "text": [
      "Begin to train ST data...\n"
     ]
    },
    {
     "name": "stderr",
     "output_type": "stream",
     "text": [
      "100%|████████████████████████████████████████████████████████████████████████████████| 600/600 [09:12<00:00,  1.09it/s]\n"
     ]
    },
    {
     "name": "stdout",
     "output_type": "stream",
     "text": [
      "Optimization finished for ST data!\n",
      "fitting ...\n",
      "  |======================================================================| 100%\n"
     ]
    },
    {
     "name": "stderr",
     "output_type": "stream",
     "text": [
      "C:\\Users\\chand\\anaconda3\\envs\\GraphST\\lib\\site-packages\\anndata\\_core\\anndata.py:788: UserWarning: \n",
      "AnnData expects .obs.index to contain strings, but got values like:\n",
      "    [1, 2, 3, 4, 5]\n",
      "\n",
      "    Inferred to be: integer\n",
      "\n",
      "  value_idx = self._prep_dim_index(value.index, attr)\n",
      "C:\\Users\\chand\\anaconda3\\envs\\GraphST\\lib\\site-packages\\anndata\\_core\\anndata.py:121: ImplicitModificationWarning: Transforming to str index.\n",
      "  warnings.warn(\"Transforming to str index.\", ImplicitModificationWarning)\n",
      "C:\\Users\\chand\\anaconda3\\envs\\GraphST\\lib\\site-packages\\scanpy\\preprocessing\\_highly_variable_genes.py:62: UserWarning: `flavor='seurat_v3'` expects raw count data, but non-integers were found.\n",
      "  warnings.warn(\n"
     ]
    },
    {
     "name": "stdout",
     "output_type": "stream",
     "text": [
      "Begin to train ST data...\n"
     ]
    },
    {
     "name": "stderr",
     "output_type": "stream",
     "text": [
      "100%|████████████████████████████████████████████████████████████████████████████████| 600/600 [04:55<00:00,  2.03it/s]\n"
     ]
    },
    {
     "name": "stdout",
     "output_type": "stream",
     "text": [
      "Optimization finished for ST data!\n",
      "fitting ...\n",
      "  |======================================================================| 100%\n"
     ]
    },
    {
     "name": "stderr",
     "output_type": "stream",
     "text": [
      "C:\\Users\\chand\\anaconda3\\envs\\GraphST\\lib\\site-packages\\anndata\\_core\\anndata.py:788: UserWarning: \n",
      "AnnData expects .obs.index to contain strings, but got values like:\n",
      "    [1, 2, 3, 4, 5]\n",
      "\n",
      "    Inferred to be: integer\n",
      "\n",
      "  value_idx = self._prep_dim_index(value.index, attr)\n",
      "C:\\Users\\chand\\anaconda3\\envs\\GraphST\\lib\\site-packages\\anndata\\_core\\anndata.py:121: ImplicitModificationWarning: Transforming to str index.\n",
      "  warnings.warn(\"Transforming to str index.\", ImplicitModificationWarning)\n",
      "C:\\Users\\chand\\anaconda3\\envs\\GraphST\\lib\\site-packages\\scanpy\\preprocessing\\_highly_variable_genes.py:62: UserWarning: `flavor='seurat_v3'` expects raw count data, but non-integers were found.\n",
      "  warnings.warn(\n"
     ]
    },
    {
     "name": "stdout",
     "output_type": "stream",
     "text": [
      "Begin to train ST data...\n"
     ]
    },
    {
     "name": "stderr",
     "output_type": "stream",
     "text": [
      "100%|████████████████████████████████████████████████████████████████████████████████| 600/600 [02:14<00:00,  4.46it/s]\n"
     ]
    },
    {
     "name": "stdout",
     "output_type": "stream",
     "text": [
      "Optimization finished for ST data!\n",
      "fitting ...\n",
      "  |======================================================================| 100%\n"
     ]
    },
    {
     "name": "stderr",
     "output_type": "stream",
     "text": [
      "C:\\Users\\chand\\anaconda3\\envs\\GraphST\\lib\\site-packages\\anndata\\_core\\anndata.py:788: UserWarning: \n",
      "AnnData expects .obs.index to contain strings, but got values like:\n",
      "    [1, 2, 3, 4, 5]\n",
      "\n",
      "    Inferred to be: integer\n",
      "\n",
      "  value_idx = self._prep_dim_index(value.index, attr)\n",
      "C:\\Users\\chand\\anaconda3\\envs\\GraphST\\lib\\site-packages\\anndata\\_core\\anndata.py:121: ImplicitModificationWarning: Transforming to str index.\n",
      "  warnings.warn(\"Transforming to str index.\", ImplicitModificationWarning)\n",
      "C:\\Users\\chand\\anaconda3\\envs\\GraphST\\lib\\site-packages\\scanpy\\preprocessing\\_highly_variable_genes.py:62: UserWarning: `flavor='seurat_v3'` expects raw count data, but non-integers were found.\n",
      "  warnings.warn(\n"
     ]
    },
    {
     "name": "stdout",
     "output_type": "stream",
     "text": [
      "Begin to train ST data...\n"
     ]
    },
    {
     "name": "stderr",
     "output_type": "stream",
     "text": [
      "100%|████████████████████████████████████████████████████████████████████████████████| 600/600 [02:29<00:00,  4.03it/s]\n"
     ]
    },
    {
     "name": "stdout",
     "output_type": "stream",
     "text": [
      "Optimization finished for ST data!\n",
      "fitting ...\n",
      "  |======================================================================| 100%\n"
     ]
    },
    {
     "name": "stderr",
     "output_type": "stream",
     "text": [
      "C:\\Users\\chand\\anaconda3\\envs\\GraphST\\lib\\site-packages\\anndata\\_core\\anndata.py:788: UserWarning: \n",
      "AnnData expects .obs.index to contain strings, but got values like:\n",
      "    [1, 2, 3, 4, 5]\n",
      "\n",
      "    Inferred to be: integer\n",
      "\n",
      "  value_idx = self._prep_dim_index(value.index, attr)\n",
      "C:\\Users\\chand\\anaconda3\\envs\\GraphST\\lib\\site-packages\\anndata\\_core\\anndata.py:121: ImplicitModificationWarning: Transforming to str index.\n",
      "  warnings.warn(\"Transforming to str index.\", ImplicitModificationWarning)\n",
      "C:\\Users\\chand\\anaconda3\\envs\\GraphST\\lib\\site-packages\\scanpy\\preprocessing\\_highly_variable_genes.py:62: UserWarning: `flavor='seurat_v3'` expects raw count data, but non-integers were found.\n",
      "  warnings.warn(\n"
     ]
    },
    {
     "name": "stdout",
     "output_type": "stream",
     "text": [
      "Begin to train ST data...\n"
     ]
    },
    {
     "name": "stderr",
     "output_type": "stream",
     "text": [
      "100%|████████████████████████████████████████████████████████████████████████████████| 600/600 [06:32<00:00,  1.53it/s]\n"
     ]
    },
    {
     "name": "stdout",
     "output_type": "stream",
     "text": [
      "Optimization finished for ST data!\n",
      "fitting ...\n",
      "  |======================================================================| 100%\n"
     ]
    },
    {
     "name": "stderr",
     "output_type": "stream",
     "text": [
      "C:\\Users\\chand\\anaconda3\\envs\\GraphST\\lib\\site-packages\\anndata\\_core\\anndata.py:788: UserWarning: \n",
      "AnnData expects .obs.index to contain strings, but got values like:\n",
      "    [1, 2, 3, 4, 5]\n",
      "\n",
      "    Inferred to be: integer\n",
      "\n",
      "  value_idx = self._prep_dim_index(value.index, attr)\n",
      "C:\\Users\\chand\\anaconda3\\envs\\GraphST\\lib\\site-packages\\anndata\\_core\\anndata.py:121: ImplicitModificationWarning: Transforming to str index.\n",
      "  warnings.warn(\"Transforming to str index.\", ImplicitModificationWarning)\n",
      "C:\\Users\\chand\\anaconda3\\envs\\GraphST\\lib\\site-packages\\scanpy\\preprocessing\\_highly_variable_genes.py:62: UserWarning: `flavor='seurat_v3'` expects raw count data, but non-integers were found.\n",
      "  warnings.warn(\n"
     ]
    },
    {
     "name": "stdout",
     "output_type": "stream",
     "text": [
      "Begin to train ST data...\n"
     ]
    },
    {
     "name": "stderr",
     "output_type": "stream",
     "text": [
      "100%|████████████████████████████████████████████████████████████████████████████████| 600/600 [01:54<00:00,  5.26it/s]\n"
     ]
    },
    {
     "name": "stdout",
     "output_type": "stream",
     "text": [
      "Optimization finished for ST data!\n",
      "fitting ...\n",
      "  |======================================================================| 100%\n"
     ]
    },
    {
     "name": "stderr",
     "output_type": "stream",
     "text": [
      "C:\\Users\\chand\\anaconda3\\envs\\GraphST\\lib\\site-packages\\anndata\\_core\\anndata.py:788: UserWarning: \n",
      "AnnData expects .obs.index to contain strings, but got values like:\n",
      "    [1, 2, 3, 4, 5]\n",
      "\n",
      "    Inferred to be: integer\n",
      "\n",
      "  value_idx = self._prep_dim_index(value.index, attr)\n",
      "C:\\Users\\chand\\anaconda3\\envs\\GraphST\\lib\\site-packages\\anndata\\_core\\anndata.py:121: ImplicitModificationWarning: Transforming to str index.\n",
      "  warnings.warn(\"Transforming to str index.\", ImplicitModificationWarning)\n",
      "C:\\Users\\chand\\anaconda3\\envs\\GraphST\\lib\\site-packages\\scanpy\\preprocessing\\_highly_variable_genes.py:62: UserWarning: `flavor='seurat_v3'` expects raw count data, but non-integers were found.\n",
      "  warnings.warn(\n"
     ]
    },
    {
     "name": "stdout",
     "output_type": "stream",
     "text": [
      "Begin to train ST data...\n"
     ]
    },
    {
     "name": "stderr",
     "output_type": "stream",
     "text": [
      "100%|████████████████████████████████████████████████████████████████████████████████| 600/600 [02:00<00:00,  4.99it/s]\n"
     ]
    },
    {
     "name": "stdout",
     "output_type": "stream",
     "text": [
      "Optimization finished for ST data!\n",
      "fitting ...\n",
      "  |======================================================================| 100%\n"
     ]
    },
    {
     "name": "stderr",
     "output_type": "stream",
     "text": [
      "C:\\Users\\chand\\anaconda3\\envs\\GraphST\\lib\\site-packages\\anndata\\_core\\anndata.py:788: UserWarning: \n",
      "AnnData expects .obs.index to contain strings, but got values like:\n",
      "    [1, 2, 3, 4, 5]\n",
      "\n",
      "    Inferred to be: integer\n",
      "\n",
      "  value_idx = self._prep_dim_index(value.index, attr)\n",
      "C:\\Users\\chand\\anaconda3\\envs\\GraphST\\lib\\site-packages\\anndata\\_core\\anndata.py:121: ImplicitModificationWarning: Transforming to str index.\n",
      "  warnings.warn(\"Transforming to str index.\", ImplicitModificationWarning)\n",
      "C:\\Users\\chand\\anaconda3\\envs\\GraphST\\lib\\site-packages\\scanpy\\preprocessing\\_highly_variable_genes.py:62: UserWarning: `flavor='seurat_v3'` expects raw count data, but non-integers were found.\n",
      "  warnings.warn(\n"
     ]
    },
    {
     "name": "stdout",
     "output_type": "stream",
     "text": [
      "Begin to train ST data...\n"
     ]
    },
    {
     "name": "stderr",
     "output_type": "stream",
     "text": [
      "100%|████████████████████████████████████████████████████████████████████████████████| 600/600 [00:37<00:00, 15.80it/s]\n"
     ]
    },
    {
     "name": "stdout",
     "output_type": "stream",
     "text": [
      "Optimization finished for ST data!\n",
      "fitting ...\n",
      "  |======================================================================| 100%\n"
     ]
    },
    {
     "name": "stderr",
     "output_type": "stream",
     "text": [
      "C:\\Users\\chand\\anaconda3\\envs\\GraphST\\lib\\site-packages\\anndata\\_core\\anndata.py:788: UserWarning: \n",
      "AnnData expects .obs.index to contain strings, but got values like:\n",
      "    [1, 2, 3, 4, 5]\n",
      "\n",
      "    Inferred to be: integer\n",
      "\n",
      "  value_idx = self._prep_dim_index(value.index, attr)\n",
      "C:\\Users\\chand\\anaconda3\\envs\\GraphST\\lib\\site-packages\\anndata\\_core\\anndata.py:121: ImplicitModificationWarning: Transforming to str index.\n",
      "  warnings.warn(\"Transforming to str index.\", ImplicitModificationWarning)\n",
      "C:\\Users\\chand\\anaconda3\\envs\\GraphST\\lib\\site-packages\\scanpy\\preprocessing\\_highly_variable_genes.py:62: UserWarning: `flavor='seurat_v3'` expects raw count data, but non-integers were found.\n",
      "  warnings.warn(\n"
     ]
    },
    {
     "name": "stdout",
     "output_type": "stream",
     "text": [
      "Begin to train ST data...\n"
     ]
    },
    {
     "name": "stderr",
     "output_type": "stream",
     "text": [
      "100%|████████████████████████████████████████████████████████████████████████████████| 600/600 [00:32<00:00, 18.26it/s]\n"
     ]
    },
    {
     "name": "stdout",
     "output_type": "stream",
     "text": [
      "Optimization finished for ST data!\n",
      "fitting ...\n",
      "  |======================================================================| 100%\n"
     ]
    },
    {
     "name": "stderr",
     "output_type": "stream",
     "text": [
      "C:\\Users\\chand\\anaconda3\\envs\\GraphST\\lib\\site-packages\\anndata\\_core\\anndata.py:788: UserWarning: \n",
      "AnnData expects .obs.index to contain strings, but got values like:\n",
      "    [1, 2, 3, 4, 5]\n",
      "\n",
      "    Inferred to be: integer\n",
      "\n",
      "  value_idx = self._prep_dim_index(value.index, attr)\n",
      "C:\\Users\\chand\\anaconda3\\envs\\GraphST\\lib\\site-packages\\anndata\\_core\\anndata.py:121: ImplicitModificationWarning: Transforming to str index.\n",
      "  warnings.warn(\"Transforming to str index.\", ImplicitModificationWarning)\n",
      "C:\\Users\\chand\\anaconda3\\envs\\GraphST\\lib\\site-packages\\scanpy\\preprocessing\\_highly_variable_genes.py:62: UserWarning: `flavor='seurat_v3'` expects raw count data, but non-integers were found.\n",
      "  warnings.warn(\n"
     ]
    },
    {
     "name": "stdout",
     "output_type": "stream",
     "text": [
      "Begin to train ST data...\n"
     ]
    },
    {
     "name": "stderr",
     "output_type": "stream",
     "text": [
      "100%|████████████████████████████████████████████████████████████████████████████████| 600/600 [02:54<00:00,  3.44it/s]\n"
     ]
    },
    {
     "name": "stdout",
     "output_type": "stream",
     "text": [
      "Optimization finished for ST data!\n",
      "fitting ...\n",
      "  |======================================================================| 100%\n"
     ]
    },
    {
     "name": "stderr",
     "output_type": "stream",
     "text": [
      "C:\\Users\\chand\\anaconda3\\envs\\GraphST\\lib\\site-packages\\anndata\\_core\\anndata.py:788: UserWarning: \n",
      "AnnData expects .obs.index to contain strings, but got values like:\n",
      "    [1, 2, 3, 4, 5]\n",
      "\n",
      "    Inferred to be: integer\n",
      "\n",
      "  value_idx = self._prep_dim_index(value.index, attr)\n",
      "C:\\Users\\chand\\anaconda3\\envs\\GraphST\\lib\\site-packages\\anndata\\_core\\anndata.py:121: ImplicitModificationWarning: Transforming to str index.\n",
      "  warnings.warn(\"Transforming to str index.\", ImplicitModificationWarning)\n",
      "C:\\Users\\chand\\anaconda3\\envs\\GraphST\\lib\\site-packages\\scanpy\\preprocessing\\_highly_variable_genes.py:62: UserWarning: `flavor='seurat_v3'` expects raw count data, but non-integers were found.\n",
      "  warnings.warn(\n"
     ]
    },
    {
     "name": "stdout",
     "output_type": "stream",
     "text": [
      "Begin to train ST data...\n"
     ]
    },
    {
     "name": "stderr",
     "output_type": "stream",
     "text": [
      "100%|████████████████████████████████████████████████████████████████████████████████| 600/600 [01:28<00:00,  6.75it/s]\n"
     ]
    },
    {
     "name": "stdout",
     "output_type": "stream",
     "text": [
      "Optimization finished for ST data!\n",
      "fitting ...\n",
      "  |======================================================================| 100%\n"
     ]
    },
    {
     "name": "stderr",
     "output_type": "stream",
     "text": [
      "C:\\Users\\chand\\anaconda3\\envs\\GraphST\\lib\\site-packages\\anndata\\_core\\anndata.py:788: UserWarning: \n",
      "AnnData expects .obs.index to contain strings, but got values like:\n",
      "    [1, 2, 3, 4, 5]\n",
      "\n",
      "    Inferred to be: integer\n",
      "\n",
      "  value_idx = self._prep_dim_index(value.index, attr)\n",
      "C:\\Users\\chand\\anaconda3\\envs\\GraphST\\lib\\site-packages\\anndata\\_core\\anndata.py:121: ImplicitModificationWarning: Transforming to str index.\n",
      "  warnings.warn(\"Transforming to str index.\", ImplicitModificationWarning)\n",
      "C:\\Users\\chand\\anaconda3\\envs\\GraphST\\lib\\site-packages\\scanpy\\preprocessing\\_highly_variable_genes.py:62: UserWarning: `flavor='seurat_v3'` expects raw count data, but non-integers were found.\n",
      "  warnings.warn(\n"
     ]
    },
    {
     "name": "stdout",
     "output_type": "stream",
     "text": [
      "Begin to train ST data...\n"
     ]
    },
    {
     "name": "stderr",
     "output_type": "stream",
     "text": [
      "100%|████████████████████████████████████████████████████████████████████████████████| 600/600 [01:41<00:00,  5.93it/s]\n"
     ]
    },
    {
     "name": "stdout",
     "output_type": "stream",
     "text": [
      "Optimization finished for ST data!\n",
      "fitting ...\n",
      "  |======================================================================| 100%\n"
     ]
    },
    {
     "name": "stderr",
     "output_type": "stream",
     "text": [
      "C:\\Users\\chand\\anaconda3\\envs\\GraphST\\lib\\site-packages\\anndata\\_core\\anndata.py:788: UserWarning: \n",
      "AnnData expects .obs.index to contain strings, but got values like:\n",
      "    [1, 2, 3, 4, 5]\n",
      "\n",
      "    Inferred to be: integer\n",
      "\n",
      "  value_idx = self._prep_dim_index(value.index, attr)\n",
      "C:\\Users\\chand\\anaconda3\\envs\\GraphST\\lib\\site-packages\\anndata\\_core\\anndata.py:121: ImplicitModificationWarning: Transforming to str index.\n",
      "  warnings.warn(\"Transforming to str index.\", ImplicitModificationWarning)\n",
      "C:\\Users\\chand\\anaconda3\\envs\\GraphST\\lib\\site-packages\\scanpy\\preprocessing\\_highly_variable_genes.py:62: UserWarning: `flavor='seurat_v3'` expects raw count data, but non-integers were found.\n",
      "  warnings.warn(\n"
     ]
    },
    {
     "name": "stdout",
     "output_type": "stream",
     "text": [
      "Begin to train ST data...\n"
     ]
    },
    {
     "name": "stderr",
     "output_type": "stream",
     "text": [
      "100%|████████████████████████████████████████████████████████████████████████████████| 600/600 [09:58<00:00,  1.00it/s]\n"
     ]
    },
    {
     "name": "stdout",
     "output_type": "stream",
     "text": [
      "Optimization finished for ST data!\n",
      "fitting ...\n",
      "  |======================================================================| 100%\n"
     ]
    },
    {
     "name": "stderr",
     "output_type": "stream",
     "text": [
      "C:\\Users\\chand\\anaconda3\\envs\\GraphST\\lib\\site-packages\\anndata\\_core\\anndata.py:788: UserWarning: \n",
      "AnnData expects .obs.index to contain strings, but got values like:\n",
      "    [1, 2, 3, 4, 5]\n",
      "\n",
      "    Inferred to be: integer\n",
      "\n",
      "  value_idx = self._prep_dim_index(value.index, attr)\n",
      "C:\\Users\\chand\\anaconda3\\envs\\GraphST\\lib\\site-packages\\anndata\\_core\\anndata.py:121: ImplicitModificationWarning: Transforming to str index.\n",
      "  warnings.warn(\"Transforming to str index.\", ImplicitModificationWarning)\n",
      "C:\\Users\\chand\\anaconda3\\envs\\GraphST\\lib\\site-packages\\scanpy\\preprocessing\\_highly_variable_genes.py:62: UserWarning: `flavor='seurat_v3'` expects raw count data, but non-integers were found.\n",
      "  warnings.warn(\n"
     ]
    },
    {
     "name": "stdout",
     "output_type": "stream",
     "text": [
      "Begin to train ST data...\n"
     ]
    },
    {
     "name": "stderr",
     "output_type": "stream",
     "text": [
      "100%|████████████████████████████████████████████████████████████████████████████████| 600/600 [02:41<00:00,  3.72it/s]\n"
     ]
    },
    {
     "name": "stdout",
     "output_type": "stream",
     "text": [
      "Optimization finished for ST data!\n",
      "fitting ...\n",
      "  |======================================================================| 100%\n"
     ]
    },
    {
     "name": "stderr",
     "output_type": "stream",
     "text": [
      "C:\\Users\\chand\\anaconda3\\envs\\GraphST\\lib\\site-packages\\anndata\\_core\\anndata.py:788: UserWarning: \n",
      "AnnData expects .obs.index to contain strings, but got values like:\n",
      "    [1, 2, 3, 4, 5]\n",
      "\n",
      "    Inferred to be: integer\n",
      "\n",
      "  value_idx = self._prep_dim_index(value.index, attr)\n",
      "C:\\Users\\chand\\anaconda3\\envs\\GraphST\\lib\\site-packages\\anndata\\_core\\anndata.py:121: ImplicitModificationWarning: Transforming to str index.\n",
      "  warnings.warn(\"Transforming to str index.\", ImplicitModificationWarning)\n",
      "C:\\Users\\chand\\anaconda3\\envs\\GraphST\\lib\\site-packages\\scanpy\\preprocessing\\_highly_variable_genes.py:62: UserWarning: `flavor='seurat_v3'` expects raw count data, but non-integers were found.\n",
      "  warnings.warn(\n"
     ]
    },
    {
     "name": "stdout",
     "output_type": "stream",
     "text": [
      "Begin to train ST data...\n"
     ]
    },
    {
     "name": "stderr",
     "output_type": "stream",
     "text": [
      "100%|████████████████████████████████████████████████████████████████████████████████| 600/600 [08:41<00:00,  1.15it/s]\n"
     ]
    },
    {
     "name": "stdout",
     "output_type": "stream",
     "text": [
      "Optimization finished for ST data!\n",
      "fitting ...\n",
      "  |======================================================================| 100%\n"
     ]
    },
    {
     "name": "stderr",
     "output_type": "stream",
     "text": [
      "C:\\Users\\chand\\anaconda3\\envs\\GraphST\\lib\\site-packages\\anndata\\_core\\anndata.py:788: UserWarning: \n",
      "AnnData expects .obs.index to contain strings, but got values like:\n",
      "    [1, 2, 3, 4, 5]\n",
      "\n",
      "    Inferred to be: integer\n",
      "\n",
      "  value_idx = self._prep_dim_index(value.index, attr)\n",
      "C:\\Users\\chand\\anaconda3\\envs\\GraphST\\lib\\site-packages\\anndata\\_core\\anndata.py:121: ImplicitModificationWarning: Transforming to str index.\n",
      "  warnings.warn(\"Transforming to str index.\", ImplicitModificationWarning)\n",
      "C:\\Users\\chand\\anaconda3\\envs\\GraphST\\lib\\site-packages\\scanpy\\preprocessing\\_highly_variable_genes.py:62: UserWarning: `flavor='seurat_v3'` expects raw count data, but non-integers were found.\n",
      "  warnings.warn(\n"
     ]
    },
    {
     "name": "stdout",
     "output_type": "stream",
     "text": [
      "Begin to train ST data...\n"
     ]
    },
    {
     "name": "stderr",
     "output_type": "stream",
     "text": [
      "100%|████████████████████████████████████████████████████████████████████████████████| 600/600 [37:27<00:00,  3.75s/it]\n"
     ]
    },
    {
     "name": "stdout",
     "output_type": "stream",
     "text": [
      "Optimization finished for ST data!\n",
      "fitting ...\n",
      "  |======================================================================| 100%\n"
     ]
    },
    {
     "name": "stderr",
     "output_type": "stream",
     "text": [
      "C:\\Users\\chand\\anaconda3\\envs\\GraphST\\lib\\site-packages\\anndata\\_core\\anndata.py:788: UserWarning: \n",
      "AnnData expects .obs.index to contain strings, but got values like:\n",
      "    [1, 2, 3, 4, 5]\n",
      "\n",
      "    Inferred to be: integer\n",
      "\n",
      "  value_idx = self._prep_dim_index(value.index, attr)\n",
      "C:\\Users\\chand\\anaconda3\\envs\\GraphST\\lib\\site-packages\\anndata\\_core\\anndata.py:121: ImplicitModificationWarning: Transforming to str index.\n",
      "  warnings.warn(\"Transforming to str index.\", ImplicitModificationWarning)\n",
      "C:\\Users\\chand\\anaconda3\\envs\\GraphST\\lib\\site-packages\\scanpy\\preprocessing\\_highly_variable_genes.py:62: UserWarning: `flavor='seurat_v3'` expects raw count data, but non-integers were found.\n",
      "  warnings.warn(\n"
     ]
    },
    {
     "name": "stdout",
     "output_type": "stream",
     "text": [
      "Begin to train ST data...\n"
     ]
    },
    {
     "name": "stderr",
     "output_type": "stream",
     "text": [
      "100%|████████████████████████████████████████████████████████████████████████████████| 600/600 [13:26<00:00,  1.34s/it]\n"
     ]
    },
    {
     "name": "stdout",
     "output_type": "stream",
     "text": [
      "Optimization finished for ST data!\n",
      "fitting ...\n",
      "  |======================================================================| 100%\n"
     ]
    }
   ],
   "source": [
    "n_clusters = 4\n",
    "for i in file_path:\n",
    "    counts = sc.read_csv(os.path.join(i, 'count.csv'))\n",
    "    labels = pd.read_csv(os.path.join(i, 'labels.csv')) \n",
    "    spatial = pd.read_csv(os.path.join(i,'spa.csv' ))\n",
    "    adata = counts\n",
    "    adata.obs = labels\n",
    "    adata.obsm['spatial'] = spatial.values\n",
    "    adata.var_names_make_unique()\n",
    "    # define model\n",
    "    model = GraphST.GraphST(adata, device=device)\n",
    "\n",
    "    # train model\n",
    "    adata = model.train()\n",
    "\n",
    "    # set radius to specify the number of neighbors considered during refinement\n",
    "    radius = 50\n",
    "\n",
    "    tool = 'mclust' # mclust, leiden, and louvain\n",
    "\n",
    "    # clustering\n",
    "    from GraphST.utils import clustering\n",
    "\n",
    "    if tool == 'mclust':\n",
    "       clustering(adata, n_clusters, radius=radius, method=tool, refinement=False) \n",
    "    elif tool in ['leiden', 'louvain']:\n",
    "       clustering(adata, n_clusters, radius=radius, method=tool, start=0.1, end=2.0, increment=0.01, refinement=False)\n",
    "    spatial_results = pd.DataFrame(adata.obs)\n",
    "    spatial_results.drop(columns = ['transfer_subset', 'subclass.l1', 'substructure'], inplace = True)\n",
    "    # if (not os.path.exists(os.path.join(i, 'spatial_clustering_results.csv'))):\n",
    "    spatial_results.to_csv(os.path.join(i, 'spatial_clustering_results.csv'))\n",
    "                         "
   ]
  },
  {
   "cell_type": "code",
   "execution_count": 11,
   "id": "a3cd1385-f8e1-4d3d-92e7-eb62ff6e6474",
   "metadata": {},
   "outputs": [
    {
     "name": "stderr",
     "output_type": "stream",
     "text": [
      "C:\\Users\\chand\\anaconda3\\envs\\GraphST\\lib\\site-packages\\anndata\\_core\\anndata.py:788: UserWarning: \n",
      "AnnData expects .obs.index to contain strings, but got values like:\n",
      "    [1, 2, 3, 4, 5]\n",
      "\n",
      "    Inferred to be: integer\n",
      "\n",
      "  value_idx = self._prep_dim_index(value.index, attr)\n",
      "C:\\Users\\chand\\anaconda3\\envs\\GraphST\\lib\\site-packages\\anndata\\_core\\anndata.py:121: ImplicitModificationWarning: Transforming to str index.\n",
      "  warnings.warn(\"Transforming to str index.\", ImplicitModificationWarning)\n",
      "C:\\Users\\chand\\anaconda3\\envs\\GraphST\\lib\\site-packages\\scanpy\\preprocessing\\_highly_variable_genes.py:62: UserWarning: `flavor='seurat_v3'` expects raw count data, but non-integers were found.\n",
      "  warnings.warn(\n"
     ]
    },
    {
     "name": "stdout",
     "output_type": "stream",
     "text": [
      "Begin to train ST data...\n"
     ]
    },
    {
     "name": "stderr",
     "output_type": "stream",
     "text": [
      "100%|████████████████████████████████████████████████████████████████████████████████| 600/600 [01:44<00:00,  5.75it/s]"
     ]
    },
    {
     "name": "stdout",
     "output_type": "stream",
     "text": [
      "Optimization finished for ST data!\n"
     ]
    },
    {
     "name": "stderr",
     "output_type": "stream",
     "text": [
      "\n"
     ]
    }
   ],
   "source": [
    "counts = sc.read_csv('count.csv') \n",
    "labels = pd.read_csv('labels.csv') \n",
    "spatial = pd.read_csv('spa.csv')\n",
    "adata = counts\n",
    "adata.obs = labels\n",
    "adata.obsm['spatial'] = spatial.values\n",
    "adata.var_names_make_unique()\n",
    "# define model\n",
    "model = GraphST.GraphST(adata, device=device)\n",
    "\n",
    "# train model\n",
    "adata = model.train()"
   ]
  },
  {
   "cell_type": "code",
   "execution_count": 17,
   "id": "346cfbf7-e477-4f58-92fb-6fb2e109ea92",
   "metadata": {},
   "outputs": [
    {
     "data": {
      "text/html": [
       "<div>\n",
       "<style scoped>\n",
       "    .dataframe tbody tr th:only-of-type {\n",
       "        vertical-align: middle;\n",
       "    }\n",
       "\n",
       "    .dataframe tbody tr th {\n",
       "        vertical-align: top;\n",
       "    }\n",
       "\n",
       "    .dataframe thead th {\n",
       "        text-align: right;\n",
       "    }\n",
       "</style>\n",
       "<table border=\"1\" class=\"dataframe\">\n",
       "  <thead>\n",
       "    <tr style=\"text-align: right;\">\n",
       "      <th></th>\n",
       "      <th>barcodes</th>\n",
       "      <th>transfer_subset</th>\n",
       "      <th>subclass.l1</th>\n",
       "      <th>class</th>\n",
       "      <th>substructure</th>\n",
       "    </tr>\n",
       "  </thead>\n",
       "  <tbody>\n",
       "    <tr>\n",
       "      <th>1</th>\n",
       "      <td>AAACATTTCCCGGATT-1</td>\n",
       "      <td>dPT</td>\n",
       "      <td>PT</td>\n",
       "      <td>epithelial cells</td>\n",
       "      <td>proximal tubules</td>\n",
       "    </tr>\n",
       "    <tr>\n",
       "      <th>2</th>\n",
       "      <td>AAAGGCTACGGACCAT-1</td>\n",
       "      <td>dPT</td>\n",
       "      <td>PT</td>\n",
       "      <td>epithelial cells</td>\n",
       "      <td>proximal tubules</td>\n",
       "    </tr>\n",
       "    <tr>\n",
       "      <th>3</th>\n",
       "      <td>AAAGGCTCTCGCGCCG-1</td>\n",
       "      <td>C-IC-A</td>\n",
       "      <td>IC</td>\n",
       "      <td>epithelial cells</td>\n",
       "      <td>Collecting tubules</td>\n",
       "    </tr>\n",
       "    <tr>\n",
       "      <th>4</th>\n",
       "      <td>AACAATACATTGTCGA-1</td>\n",
       "      <td>aPT</td>\n",
       "      <td>PT</td>\n",
       "      <td>epithelial cells</td>\n",
       "      <td>proximal tubules</td>\n",
       "    </tr>\n",
       "    <tr>\n",
       "      <th>5</th>\n",
       "      <td>AACAGCTGTGTGGCAA-1</td>\n",
       "      <td>dPT/DTL</td>\n",
       "      <td>PT</td>\n",
       "      <td>epithelial cells</td>\n",
       "      <td>proximal tubules</td>\n",
       "    </tr>\n",
       "    <tr>\n",
       "      <th>...</th>\n",
       "      <td>...</td>\n",
       "      <td>...</td>\n",
       "      <td>...</td>\n",
       "      <td>...</td>\n",
       "      <td>...</td>\n",
       "    </tr>\n",
       "    <tr>\n",
       "      <th>313</th>\n",
       "      <td>TTGTGAACCTAATCCG-1</td>\n",
       "      <td>dPT</td>\n",
       "      <td>PT</td>\n",
       "      <td>epithelial cells</td>\n",
       "      <td>proximal tubules</td>\n",
       "    </tr>\n",
       "    <tr>\n",
       "      <th>314</th>\n",
       "      <td>TTGTGCAGCCACGTCA-1</td>\n",
       "      <td>DCT</td>\n",
       "      <td>DCT</td>\n",
       "      <td>epithelial cells</td>\n",
       "      <td>Distal tubules</td>\n",
       "    </tr>\n",
       "    <tr>\n",
       "      <th>315</th>\n",
       "      <td>TTGTGTATGCCACCAA-1</td>\n",
       "      <td>dPT</td>\n",
       "      <td>PT</td>\n",
       "      <td>epithelial cells</td>\n",
       "      <td>proximal tubules</td>\n",
       "    </tr>\n",
       "    <tr>\n",
       "      <th>316</th>\n",
       "      <td>TTGTTTCACATCCAGG-1</td>\n",
       "      <td>dFIB</td>\n",
       "      <td>FIB</td>\n",
       "      <td>stroma cells</td>\n",
       "      <td>interstitium</td>\n",
       "    </tr>\n",
       "    <tr>\n",
       "      <th>317</th>\n",
       "      <td>TTGTTTCATTAGTCTA-1</td>\n",
       "      <td>aPT</td>\n",
       "      <td>PT</td>\n",
       "      <td>epithelial cells</td>\n",
       "      <td>proximal tubules</td>\n",
       "    </tr>\n",
       "  </tbody>\n",
       "</table>\n",
       "<p>317 rows × 5 columns</p>\n",
       "</div>"
      ],
      "text/plain": [
       "               barcodes transfer_subset subclass.l1             class  \\\n",
       "1    AAACATTTCCCGGATT-1             dPT          PT  epithelial cells   \n",
       "2    AAAGGCTACGGACCAT-1             dPT          PT  epithelial cells   \n",
       "3    AAAGGCTCTCGCGCCG-1          C-IC-A          IC  epithelial cells   \n",
       "4    AACAATACATTGTCGA-1             aPT          PT  epithelial cells   \n",
       "5    AACAGCTGTGTGGCAA-1         dPT/DTL          PT  epithelial cells   \n",
       "..                  ...             ...         ...               ...   \n",
       "313  TTGTGAACCTAATCCG-1             dPT          PT  epithelial cells   \n",
       "314  TTGTGCAGCCACGTCA-1             DCT         DCT  epithelial cells   \n",
       "315  TTGTGTATGCCACCAA-1             dPT          PT  epithelial cells   \n",
       "316  TTGTTTCACATCCAGG-1            dFIB         FIB      stroma cells   \n",
       "317  TTGTTTCATTAGTCTA-1             aPT          PT  epithelial cells   \n",
       "\n",
       "           substructure  \n",
       "1      proximal tubules  \n",
       "2      proximal tubules  \n",
       "3    Collecting tubules  \n",
       "4      proximal tubules  \n",
       "5      proximal tubules  \n",
       "..                  ...  \n",
       "313    proximal tubules  \n",
       "314      Distal tubules  \n",
       "315    proximal tubules  \n",
       "316        interstitium  \n",
       "317    proximal tubules  \n",
       "\n",
       "[317 rows x 5 columns]"
      ]
     },
     "execution_count": 17,
     "metadata": {},
     "output_type": "execute_result"
    }
   ],
   "source": [
    "labels"
   ]
  },
  {
   "cell_type": "code",
   "execution_count": 12,
   "id": "950bcb93-d713-4827-bb73-fff8453db67a",
   "metadata": {},
   "outputs": [
    {
     "data": {
      "text/plain": [
       "AnnData object with n_obs × n_vars = 317 × 14975\n",
       "    obs: 'barcodes', 'transfer_subset', 'subclass.l1', 'class', 'substructure'\n",
       "    var: 'highly_variable', 'highly_variable_rank', 'means', 'variances', 'variances_norm', 'mean', 'std'\n",
       "    uns: 'hvg', 'log1p'\n",
       "    obsm: 'spatial', 'distance_matrix', 'graph_neigh', 'adj', 'label_CSL', 'feat', 'feat_a', 'emb'"
      ]
     },
     "execution_count": 12,
     "metadata": {},
     "output_type": "execute_result"
    }
   ],
   "source": [
    "adata"
   ]
  },
  {
   "cell_type": "code",
   "execution_count": 30,
   "id": "90cd7e0c-eb26-4bbb-a41b-3c83538560f8",
   "metadata": {},
   "outputs": [],
   "source": [
    "n_clusters = 5"
   ]
  },
  {
   "cell_type": "code",
   "execution_count": 31,
   "id": "b9bac3fb-2976-449d-9ff2-37aba7a26f90",
   "metadata": {},
   "outputs": [
    {
     "name": "stdout",
     "output_type": "stream",
     "text": [
      "fitting ...\n",
      "  |======================================================================| 100%\n"
     ]
    }
   ],
   "source": [
    "# set radius to specify the number of neighbors considered during refinement\n",
    "radius = 50\n",
    "\n",
    "tool = 'mclust' # mclust, leiden, and louvain\n",
    "\n",
    "# clustering\n",
    "from GraphST.utils import clustering\n",
    "\n",
    "if tool == 'mclust':\n",
    "   clustering(adata, n_clusters, radius=radius, method=tool, refinement=False) # For DLPFC dataset, we use optional refinement step.\n",
    "elif tool in ['leiden', 'louvain']:\n",
    "   clustering(adata, n_clusters, radius=radius, method=tool, start=0.1, end=2.0, increment=0.01, refinement=False)"
   ]
  },
  {
   "cell_type": "code",
   "execution_count": 32,
   "id": "d7cae831-a7bd-44e9-86f7-3f82d10aef82",
   "metadata": {},
   "outputs": [
    {
     "data": {
      "text/plain": [
       "AnnData object with n_obs × n_vars = 317 × 14975\n",
       "    obs: 'barcodes', 'transfer_subset', 'subclass.l1', 'class', 'substructure', 'mclust', 'domain'\n",
       "    var: 'highly_variable', 'highly_variable_rank', 'means', 'variances', 'variances_norm', 'mean', 'std'\n",
       "    uns: 'hvg', 'log1p', 'ARI'\n",
       "    obsm: 'spatial', 'distance_matrix', 'graph_neigh', 'adj', 'label_CSL', 'feat', 'feat_a', 'emb', 'emb_pca'"
      ]
     },
     "execution_count": 32,
     "metadata": {},
     "output_type": "execute_result"
    }
   ],
   "source": [
    "adata"
   ]
  },
  {
   "cell_type": "code",
   "execution_count": 33,
   "id": "5f87902a-32f8-4e15-a089-ff9d4ddb2f86",
   "metadata": {},
   "outputs": [
    {
     "data": {
      "text/html": [
       "<div>\n",
       "<style scoped>\n",
       "    .dataframe tbody tr th:only-of-type {\n",
       "        vertical-align: middle;\n",
       "    }\n",
       "\n",
       "    .dataframe tbody tr th {\n",
       "        vertical-align: top;\n",
       "    }\n",
       "\n",
       "    .dataframe thead th {\n",
       "        text-align: right;\n",
       "    }\n",
       "</style>\n",
       "<table border=\"1\" class=\"dataframe\">\n",
       "  <thead>\n",
       "    <tr style=\"text-align: right;\">\n",
       "      <th></th>\n",
       "      <th>barcodes</th>\n",
       "      <th>transfer_subset</th>\n",
       "      <th>subclass.l1</th>\n",
       "      <th>class</th>\n",
       "      <th>substructure</th>\n",
       "      <th>mclust</th>\n",
       "      <th>domain</th>\n",
       "    </tr>\n",
       "  </thead>\n",
       "  <tbody>\n",
       "    <tr>\n",
       "      <th>1</th>\n",
       "      <td>AAACATTTCCCGGATT-1</td>\n",
       "      <td>dPT</td>\n",
       "      <td>PT</td>\n",
       "      <td>epithelial cells</td>\n",
       "      <td>proximal tubules</td>\n",
       "      <td>4</td>\n",
       "      <td>4</td>\n",
       "    </tr>\n",
       "    <tr>\n",
       "      <th>2</th>\n",
       "      <td>AAAGGCTACGGACCAT-1</td>\n",
       "      <td>dPT</td>\n",
       "      <td>PT</td>\n",
       "      <td>epithelial cells</td>\n",
       "      <td>proximal tubules</td>\n",
       "      <td>4</td>\n",
       "      <td>4</td>\n",
       "    </tr>\n",
       "    <tr>\n",
       "      <th>3</th>\n",
       "      <td>AAAGGCTCTCGCGCCG-1</td>\n",
       "      <td>C-IC-A</td>\n",
       "      <td>IC</td>\n",
       "      <td>epithelial cells</td>\n",
       "      <td>Collecting tubules</td>\n",
       "      <td>2</td>\n",
       "      <td>2</td>\n",
       "    </tr>\n",
       "    <tr>\n",
       "      <th>4</th>\n",
       "      <td>AACAATACATTGTCGA-1</td>\n",
       "      <td>aPT</td>\n",
       "      <td>PT</td>\n",
       "      <td>epithelial cells</td>\n",
       "      <td>proximal tubules</td>\n",
       "      <td>2</td>\n",
       "      <td>2</td>\n",
       "    </tr>\n",
       "    <tr>\n",
       "      <th>5</th>\n",
       "      <td>AACAGCTGTGTGGCAA-1</td>\n",
       "      <td>dPT/DTL</td>\n",
       "      <td>PT</td>\n",
       "      <td>epithelial cells</td>\n",
       "      <td>proximal tubules</td>\n",
       "      <td>2</td>\n",
       "      <td>2</td>\n",
       "    </tr>\n",
       "    <tr>\n",
       "      <th>...</th>\n",
       "      <td>...</td>\n",
       "      <td>...</td>\n",
       "      <td>...</td>\n",
       "      <td>...</td>\n",
       "      <td>...</td>\n",
       "      <td>...</td>\n",
       "      <td>...</td>\n",
       "    </tr>\n",
       "    <tr>\n",
       "      <th>313</th>\n",
       "      <td>TTGTGAACCTAATCCG-1</td>\n",
       "      <td>dPT</td>\n",
       "      <td>PT</td>\n",
       "      <td>epithelial cells</td>\n",
       "      <td>proximal tubules</td>\n",
       "      <td>4</td>\n",
       "      <td>4</td>\n",
       "    </tr>\n",
       "    <tr>\n",
       "      <th>314</th>\n",
       "      <td>TTGTGCAGCCACGTCA-1</td>\n",
       "      <td>DCT</td>\n",
       "      <td>DCT</td>\n",
       "      <td>epithelial cells</td>\n",
       "      <td>Distal tubules</td>\n",
       "      <td>4</td>\n",
       "      <td>4</td>\n",
       "    </tr>\n",
       "    <tr>\n",
       "      <th>315</th>\n",
       "      <td>TTGTGTATGCCACCAA-1</td>\n",
       "      <td>dPT</td>\n",
       "      <td>PT</td>\n",
       "      <td>epithelial cells</td>\n",
       "      <td>proximal tubules</td>\n",
       "      <td>4</td>\n",
       "      <td>4</td>\n",
       "    </tr>\n",
       "    <tr>\n",
       "      <th>316</th>\n",
       "      <td>TTGTTTCACATCCAGG-1</td>\n",
       "      <td>dFIB</td>\n",
       "      <td>FIB</td>\n",
       "      <td>stroma cells</td>\n",
       "      <td>interstitium</td>\n",
       "      <td>3</td>\n",
       "      <td>3</td>\n",
       "    </tr>\n",
       "    <tr>\n",
       "      <th>317</th>\n",
       "      <td>TTGTTTCATTAGTCTA-1</td>\n",
       "      <td>aPT</td>\n",
       "      <td>PT</td>\n",
       "      <td>epithelial cells</td>\n",
       "      <td>proximal tubules</td>\n",
       "      <td>5</td>\n",
       "      <td>5</td>\n",
       "    </tr>\n",
       "  </tbody>\n",
       "</table>\n",
       "<p>317 rows × 7 columns</p>\n",
       "</div>"
      ],
      "text/plain": [
       "               barcodes transfer_subset subclass.l1             class  \\\n",
       "1    AAACATTTCCCGGATT-1             dPT          PT  epithelial cells   \n",
       "2    AAAGGCTACGGACCAT-1             dPT          PT  epithelial cells   \n",
       "3    AAAGGCTCTCGCGCCG-1          C-IC-A          IC  epithelial cells   \n",
       "4    AACAATACATTGTCGA-1             aPT          PT  epithelial cells   \n",
       "5    AACAGCTGTGTGGCAA-1         dPT/DTL          PT  epithelial cells   \n",
       "..                  ...             ...         ...               ...   \n",
       "313  TTGTGAACCTAATCCG-1             dPT          PT  epithelial cells   \n",
       "314  TTGTGCAGCCACGTCA-1             DCT         DCT  epithelial cells   \n",
       "315  TTGTGTATGCCACCAA-1             dPT          PT  epithelial cells   \n",
       "316  TTGTTTCACATCCAGG-1            dFIB         FIB      stroma cells   \n",
       "317  TTGTTTCATTAGTCTA-1             aPT          PT  epithelial cells   \n",
       "\n",
       "           substructure mclust domain  \n",
       "1      proximal tubules      4      4  \n",
       "2      proximal tubules      4      4  \n",
       "3    Collecting tubules      2      2  \n",
       "4      proximal tubules      2      2  \n",
       "5      proximal tubules      2      2  \n",
       "..                  ...    ...    ...  \n",
       "313    proximal tubules      4      4  \n",
       "314      Distal tubules      4      4  \n",
       "315    proximal tubules      4      4  \n",
       "316        interstitium      3      3  \n",
       "317    proximal tubules      5      5  \n",
       "\n",
       "[317 rows x 7 columns]"
      ]
     },
     "execution_count": 33,
     "metadata": {},
     "output_type": "execute_result"
    }
   ],
   "source": [
    "adata.obs"
   ]
  },
  {
   "cell_type": "code",
   "execution_count": 19,
   "id": "e3592e72-5ab0-4e1e-bb17-ab1e5e48659b",
   "metadata": {},
   "outputs": [
    {
     "name": "stdout",
     "output_type": "stream",
     "text": [
      "ARI: 0.1210047320334234\n"
     ]
    }
   ],
   "source": [
    "# calculate metric ARI\n",
    "ARI = metrics.adjusted_rand_score(adata.obs['domain'], adata.obs['class'])\n",
    "adata.uns['ARI'] = ARI\n",
    "\n",
    "# print('Dataset:', dataset)\n",
    "print('ARI:', ARI)"
   ]
  },
  {
   "cell_type": "code",
   "execution_count": 29,
   "id": "633fcf13-c07b-48d6-9f2c-33c7574d1b69",
   "metadata": {},
   "outputs": [
    {
     "data": {
      "text/html": [
       "<div>\n",
       "<style scoped>\n",
       "    .dataframe tbody tr th:only-of-type {\n",
       "        vertical-align: middle;\n",
       "    }\n",
       "\n",
       "    .dataframe tbody tr th {\n",
       "        vertical-align: top;\n",
       "    }\n",
       "\n",
       "    .dataframe thead th {\n",
       "        text-align: right;\n",
       "    }\n",
       "</style>\n",
       "<table border=\"1\" class=\"dataframe\">\n",
       "  <thead>\n",
       "    <tr style=\"text-align: right;\">\n",
       "      <th></th>\n",
       "      <th>barcodes</th>\n",
       "      <th>class</th>\n",
       "      <th>mclust</th>\n",
       "      <th>domain</th>\n",
       "    </tr>\n",
       "  </thead>\n",
       "  <tbody>\n",
       "    <tr>\n",
       "      <th>1</th>\n",
       "      <td>AAACATTTCCCGGATT-1</td>\n",
       "      <td>epithelial cells</td>\n",
       "      <td>2</td>\n",
       "      <td>2</td>\n",
       "    </tr>\n",
       "    <tr>\n",
       "      <th>2</th>\n",
       "      <td>AAAGGCTACGGACCAT-1</td>\n",
       "      <td>epithelial cells</td>\n",
       "      <td>2</td>\n",
       "      <td>2</td>\n",
       "    </tr>\n",
       "    <tr>\n",
       "      <th>3</th>\n",
       "      <td>AAAGGCTCTCGCGCCG-1</td>\n",
       "      <td>epithelial cells</td>\n",
       "      <td>2</td>\n",
       "      <td>2</td>\n",
       "    </tr>\n",
       "    <tr>\n",
       "      <th>4</th>\n",
       "      <td>AACAATACATTGTCGA-1</td>\n",
       "      <td>epithelial cells</td>\n",
       "      <td>2</td>\n",
       "      <td>2</td>\n",
       "    </tr>\n",
       "    <tr>\n",
       "      <th>5</th>\n",
       "      <td>AACAGCTGTGTGGCAA-1</td>\n",
       "      <td>epithelial cells</td>\n",
       "      <td>2</td>\n",
       "      <td>2</td>\n",
       "    </tr>\n",
       "    <tr>\n",
       "      <th>...</th>\n",
       "      <td>...</td>\n",
       "      <td>...</td>\n",
       "      <td>...</td>\n",
       "      <td>...</td>\n",
       "    </tr>\n",
       "    <tr>\n",
       "      <th>313</th>\n",
       "      <td>TTGTGAACCTAATCCG-1</td>\n",
       "      <td>epithelial cells</td>\n",
       "      <td>2</td>\n",
       "      <td>2</td>\n",
       "    </tr>\n",
       "    <tr>\n",
       "      <th>314</th>\n",
       "      <td>TTGTGCAGCCACGTCA-1</td>\n",
       "      <td>epithelial cells</td>\n",
       "      <td>2</td>\n",
       "      <td>2</td>\n",
       "    </tr>\n",
       "    <tr>\n",
       "      <th>315</th>\n",
       "      <td>TTGTGTATGCCACCAA-1</td>\n",
       "      <td>epithelial cells</td>\n",
       "      <td>2</td>\n",
       "      <td>2</td>\n",
       "    </tr>\n",
       "    <tr>\n",
       "      <th>316</th>\n",
       "      <td>TTGTTTCACATCCAGG-1</td>\n",
       "      <td>stroma cells</td>\n",
       "      <td>3</td>\n",
       "      <td>3</td>\n",
       "    </tr>\n",
       "    <tr>\n",
       "      <th>317</th>\n",
       "      <td>TTGTTTCATTAGTCTA-1</td>\n",
       "      <td>epithelial cells</td>\n",
       "      <td>2</td>\n",
       "      <td>2</td>\n",
       "    </tr>\n",
       "  </tbody>\n",
       "</table>\n",
       "<p>317 rows × 4 columns</p>\n",
       "</div>"
      ],
      "text/plain": [
       "               barcodes             class mclust domain\n",
       "1    AAACATTTCCCGGATT-1  epithelial cells      2      2\n",
       "2    AAAGGCTACGGACCAT-1  epithelial cells      2      2\n",
       "3    AAAGGCTCTCGCGCCG-1  epithelial cells      2      2\n",
       "4    AACAATACATTGTCGA-1  epithelial cells      2      2\n",
       "5    AACAGCTGTGTGGCAA-1  epithelial cells      2      2\n",
       "..                  ...               ...    ...    ...\n",
       "313  TTGTGAACCTAATCCG-1  epithelial cells      2      2\n",
       "314  TTGTGCAGCCACGTCA-1  epithelial cells      2      2\n",
       "315  TTGTGTATGCCACCAA-1  epithelial cells      2      2\n",
       "316  TTGTTTCACATCCAGG-1      stroma cells      3      3\n",
       "317  TTGTTTCATTAGTCTA-1  epithelial cells      2      2\n",
       "\n",
       "[317 rows x 4 columns]"
      ]
     },
     "execution_count": 29,
     "metadata": {},
     "output_type": "execute_result"
    }
   ],
   "source": [
    "spatial_results = pd.DataFrame(adata.obs)\n",
    "spatial_results.drop(columns = ['transfer_subset', 'subclass.l1', 'substructure'], inplace = True)\n",
    "spatial_results"
   ]
  },
  {
   "cell_type": "code",
   "execution_count": null,
   "id": "2713764e-cdfb-497a-b42c-171c3ac4ad70",
   "metadata": {},
   "outputs": [],
   "source": []
  }
 ],
 "metadata": {
  "kernelspec": {
   "display_name": "GraphST",
   "language": "python",
   "name": "graphst"
  },
  "language_info": {
   "codemirror_mode": {
    "name": "ipython",
    "version": 3
   },
   "file_extension": ".py",
   "mimetype": "text/x-python",
   "name": "python",
   "nbconvert_exporter": "python",
   "pygments_lexer": "ipython3",
   "version": "3.8.19"
  }
 },
 "nbformat": 4,
 "nbformat_minor": 5
}
